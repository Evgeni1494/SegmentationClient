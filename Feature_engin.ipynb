{
 "cells": [
  {
   "cell_type": "code",
   "execution_count": 2,
   "metadata": {},
   "outputs": [],
   "source": [
    "import pandas as pd\n",
    "from ydata_profiling import ProfileReport\n",
    "df = pd.read_csv(\"base_trie.csv\")"
   ]
  },
  {
   "cell_type": "code",
   "execution_count": 3,
   "metadata": {},
   "outputs": [
    {
     "data": {
      "text/html": [
       "<div>\n",
       "<style scoped>\n",
       "    .dataframe tbody tr th:only-of-type {\n",
       "        vertical-align: middle;\n",
       "    }\n",
       "\n",
       "    .dataframe tbody tr th {\n",
       "        vertical-align: top;\n",
       "    }\n",
       "\n",
       "    .dataframe thead th {\n",
       "        text-align: right;\n",
       "    }\n",
       "</style>\n",
       "<table border=\"1\" class=\"dataframe\">\n",
       "  <thead>\n",
       "    <tr style=\"text-align: right;\">\n",
       "      <th></th>\n",
       "      <th>Invoice</th>\n",
       "      <th>StockCode</th>\n",
       "      <th>Description</th>\n",
       "      <th>Quantity</th>\n",
       "      <th>InvoiceDate</th>\n",
       "      <th>Price</th>\n",
       "      <th>Customer ID</th>\n",
       "      <th>Country</th>\n",
       "    </tr>\n",
       "  </thead>\n",
       "  <tbody>\n",
       "    <tr>\n",
       "      <th>0</th>\n",
       "      <td>489434</td>\n",
       "      <td>85048</td>\n",
       "      <td>15CM CHRISTMAS GLASS BALL 20 LIGHTS</td>\n",
       "      <td>12</td>\n",
       "      <td>2009-12-01 07:45:00</td>\n",
       "      <td>6.95</td>\n",
       "      <td>13085.0</td>\n",
       "      <td>United Kingdom</td>\n",
       "    </tr>\n",
       "    <tr>\n",
       "      <th>1</th>\n",
       "      <td>489434</td>\n",
       "      <td>79323P</td>\n",
       "      <td>PINK CHERRY LIGHTS</td>\n",
       "      <td>12</td>\n",
       "      <td>2009-12-01 07:45:00</td>\n",
       "      <td>6.75</td>\n",
       "      <td>13085.0</td>\n",
       "      <td>United Kingdom</td>\n",
       "    </tr>\n",
       "    <tr>\n",
       "      <th>2</th>\n",
       "      <td>489434</td>\n",
       "      <td>79323W</td>\n",
       "      <td>WHITE CHERRY LIGHTS</td>\n",
       "      <td>12</td>\n",
       "      <td>2009-12-01 07:45:00</td>\n",
       "      <td>6.75</td>\n",
       "      <td>13085.0</td>\n",
       "      <td>United Kingdom</td>\n",
       "    </tr>\n",
       "    <tr>\n",
       "      <th>3</th>\n",
       "      <td>489434</td>\n",
       "      <td>22041</td>\n",
       "      <td>RECORD FRAME 7\" SINGLE SIZE</td>\n",
       "      <td>48</td>\n",
       "      <td>2009-12-01 07:45:00</td>\n",
       "      <td>2.10</td>\n",
       "      <td>13085.0</td>\n",
       "      <td>United Kingdom</td>\n",
       "    </tr>\n",
       "    <tr>\n",
       "      <th>4</th>\n",
       "      <td>489434</td>\n",
       "      <td>21232</td>\n",
       "      <td>STRAWBERRY CERAMIC TRINKET BOX</td>\n",
       "      <td>24</td>\n",
       "      <td>2009-12-01 07:45:00</td>\n",
       "      <td>1.25</td>\n",
       "      <td>13085.0</td>\n",
       "      <td>United Kingdom</td>\n",
       "    </tr>\n",
       "  </tbody>\n",
       "</table>\n",
       "</div>"
      ],
      "text/plain": [
       "  Invoice StockCode                          Description  Quantity  \\\n",
       "0  489434     85048  15CM CHRISTMAS GLASS BALL 20 LIGHTS        12   \n",
       "1  489434    79323P                   PINK CHERRY LIGHTS        12   \n",
       "2  489434    79323W                  WHITE CHERRY LIGHTS        12   \n",
       "3  489434     22041         RECORD FRAME 7\" SINGLE SIZE         48   \n",
       "4  489434     21232       STRAWBERRY CERAMIC TRINKET BOX        24   \n",
       "\n",
       "           InvoiceDate  Price  Customer ID         Country  \n",
       "0  2009-12-01 07:45:00   6.95      13085.0  United Kingdom  \n",
       "1  2009-12-01 07:45:00   6.75      13085.0  United Kingdom  \n",
       "2  2009-12-01 07:45:00   6.75      13085.0  United Kingdom  \n",
       "3  2009-12-01 07:45:00   2.10      13085.0  United Kingdom  \n",
       "4  2009-12-01 07:45:00   1.25      13085.0  United Kingdom  "
      ]
     },
     "execution_count": 3,
     "metadata": {},
     "output_type": "execute_result"
    }
   ],
   "source": [
    "df.head()"
   ]
  },
  {
   "cell_type": "code",
   "execution_count": 4,
   "metadata": {},
   "outputs": [
    {
     "name": "stdout",
     "output_type": "stream",
     "text": [
      "<class 'pandas.core.frame.DataFrame'>\n",
      "RangeIndex: 797885 entries, 0 to 797884\n",
      "Data columns (total 8 columns):\n",
      " #   Column       Non-Null Count   Dtype  \n",
      "---  ------       --------------   -----  \n",
      " 0   Invoice      797885 non-null  object \n",
      " 1   StockCode    797885 non-null  object \n",
      " 2   Description  797885 non-null  object \n",
      " 3   Quantity     797885 non-null  int64  \n",
      " 4   InvoiceDate  797885 non-null  object \n",
      " 5   Price        797885 non-null  float64\n",
      " 6   Customer ID  797885 non-null  float64\n",
      " 7   Country      797885 non-null  object \n",
      "dtypes: float64(2), int64(1), object(5)\n",
      "memory usage: 48.7+ MB\n"
     ]
    }
   ],
   "source": [
    "df.info()"
   ]
  },
  {
   "cell_type": "code",
   "execution_count": 8,
   "metadata": {},
   "outputs": [
    {
     "data": {
      "text/html": [
       "<div>\n",
       "<style scoped>\n",
       "    .dataframe tbody tr th:only-of-type {\n",
       "        vertical-align: middle;\n",
       "    }\n",
       "\n",
       "    .dataframe tbody tr th {\n",
       "        vertical-align: top;\n",
       "    }\n",
       "\n",
       "    .dataframe thead th {\n",
       "        text-align: right;\n",
       "    }\n",
       "</style>\n",
       "<table border=\"1\" class=\"dataframe\">\n",
       "  <thead>\n",
       "    <tr style=\"text-align: right;\">\n",
       "      <th></th>\n",
       "      <th>Invoice</th>\n",
       "      <th>StockCode</th>\n",
       "      <th>Description</th>\n",
       "      <th>Quantity</th>\n",
       "      <th>InvoiceDate</th>\n",
       "      <th>Price</th>\n",
       "      <th>Customer ID</th>\n",
       "      <th>Country</th>\n",
       "    </tr>\n",
       "  </thead>\n",
       "  <tbody>\n",
       "    <tr>\n",
       "      <th>0</th>\n",
       "      <td>489434</td>\n",
       "      <td>85048</td>\n",
       "      <td>15CM CHRISTMAS GLASS BALL 20 LIGHTS</td>\n",
       "      <td>12</td>\n",
       "      <td>2009-12-01 07:45:00</td>\n",
       "      <td>6.95</td>\n",
       "      <td>13085.0</td>\n",
       "      <td>United Kingdom</td>\n",
       "    </tr>\n",
       "    <tr>\n",
       "      <th>1</th>\n",
       "      <td>489434</td>\n",
       "      <td>79323P</td>\n",
       "      <td>PINK CHERRY LIGHTS</td>\n",
       "      <td>12</td>\n",
       "      <td>2009-12-01 07:45:00</td>\n",
       "      <td>6.75</td>\n",
       "      <td>13085.0</td>\n",
       "      <td>United Kingdom</td>\n",
       "    </tr>\n",
       "    <tr>\n",
       "      <th>2</th>\n",
       "      <td>489434</td>\n",
       "      <td>79323W</td>\n",
       "      <td>WHITE CHERRY LIGHTS</td>\n",
       "      <td>12</td>\n",
       "      <td>2009-12-01 07:45:00</td>\n",
       "      <td>6.75</td>\n",
       "      <td>13085.0</td>\n",
       "      <td>United Kingdom</td>\n",
       "    </tr>\n",
       "    <tr>\n",
       "      <th>3</th>\n",
       "      <td>489434</td>\n",
       "      <td>22041</td>\n",
       "      <td>RECORD FRAME 7\" SINGLE SIZE</td>\n",
       "      <td>48</td>\n",
       "      <td>2009-12-01 07:45:00</td>\n",
       "      <td>2.10</td>\n",
       "      <td>13085.0</td>\n",
       "      <td>United Kingdom</td>\n",
       "    </tr>\n",
       "    <tr>\n",
       "      <th>4</th>\n",
       "      <td>489434</td>\n",
       "      <td>21232</td>\n",
       "      <td>STRAWBERRY CERAMIC TRINKET BOX</td>\n",
       "      <td>24</td>\n",
       "      <td>2009-12-01 07:45:00</td>\n",
       "      <td>1.25</td>\n",
       "      <td>13085.0</td>\n",
       "      <td>United Kingdom</td>\n",
       "    </tr>\n",
       "  </tbody>\n",
       "</table>\n",
       "</div>"
      ],
      "text/plain": [
       "  Invoice StockCode                          Description  Quantity  \\\n",
       "0  489434     85048  15CM CHRISTMAS GLASS BALL 20 LIGHTS        12   \n",
       "1  489434    79323P                   PINK CHERRY LIGHTS        12   \n",
       "2  489434    79323W                  WHITE CHERRY LIGHTS        12   \n",
       "3  489434     22041         RECORD FRAME 7\" SINGLE SIZE         48   \n",
       "4  489434     21232       STRAWBERRY CERAMIC TRINKET BOX        24   \n",
       "\n",
       "           InvoiceDate  Price  Customer ID         Country  \n",
       "0  2009-12-01 07:45:00   6.95      13085.0  United Kingdom  \n",
       "1  2009-12-01 07:45:00   6.75      13085.0  United Kingdom  \n",
       "2  2009-12-01 07:45:00   6.75      13085.0  United Kingdom  \n",
       "3  2009-12-01 07:45:00   2.10      13085.0  United Kingdom  \n",
       "4  2009-12-01 07:45:00   1.25      13085.0  United Kingdom  "
      ]
     },
     "execution_count": 8,
     "metadata": {},
     "output_type": "execute_result"
    }
   ],
   "source": [
    "# Supprimer les lignes où la valeur de \"Country\" n'est pas \"United Kingdom\"\n",
    "df = df[df['Country'] == 'United Kingdom']\n",
    "\n",
    "# Afficher le DataFrame résultant\n",
    "\n",
    "df.head()"
   ]
  },
  {
   "attachments": {},
   "cell_type": "markdown",
   "metadata": {},
   "source": [
    "### Engin Featuring."
   ]
  },
  {
   "attachments": {},
   "cell_type": "markdown",
   "metadata": {},
   "source": [
    "### Country amount"
   ]
  },
  {
   "cell_type": "code",
   "execution_count": 12,
   "metadata": {},
   "outputs": [
    {
     "name": "stdout",
     "output_type": "stream",
     "text": [
      "Country  Customer ID  Australia  Austria  Bahrain  Belgium  Brazil  Canada  \\\n",
      "0            12346.0        0.0      0.0      0.0      0.0     0.0     0.0   \n",
      "1            12347.0        0.0      0.0      0.0      0.0     0.0     0.0   \n",
      "2            12348.0        0.0      0.0      0.0      0.0     0.0     0.0   \n",
      "3            12349.0        0.0      0.0      0.0      0.0     0.0     0.0   \n",
      "4            12350.0        0.0      0.0      0.0      0.0     0.0     0.0   \n",
      "\n",
      "Country  Channel Islands  Cyprus  Czech Republic  ...  Singapore  Spain  \\\n",
      "0                    0.0     0.0             0.0  ...        0.0    0.0   \n",
      "1                    0.0     0.0             0.0  ...        0.0    0.0   \n",
      "2                    0.0     0.0             0.0  ...        0.0    0.0   \n",
      "3                    0.0     0.0             0.0  ...        0.0    0.0   \n",
      "4                    0.0     0.0             0.0  ...        0.0    0.0   \n",
      "\n",
      "Country  Sweden  Switzerland  Thailand  USA  United Arab Emirates  \\\n",
      "0           0.0          0.0       0.0  0.0                   0.0   \n",
      "1           0.0          0.0       0.0  0.0                   0.0   \n",
      "2           0.0          0.0       0.0  0.0                   0.0   \n",
      "3           0.0          0.0       0.0  0.0                   0.0   \n",
      "4           0.0          0.0       0.0  0.0                   0.0   \n",
      "\n",
      "Country  United Kingdom  Unspecified  West Indies  \n",
      "0                -51.74          0.0          0.0  \n",
      "1                  0.00          0.0          0.0  \n",
      "2                  0.00          0.0          0.0  \n",
      "3                  0.00          0.0          0.0  \n",
      "4                  0.00          0.0          0.0  \n",
      "\n",
      "[5 rows x 42 columns]\n"
     ]
    }
   ],
   "source": [
    "import pandas as pd\n",
    "\n",
    "# Charger le dataset\n",
    "df = pd.read_csv('base_trie.csv')\n",
    "\n",
    "# Calculer le montant total des achats par client\n",
    "df['TotalAmount'] = df['Quantity'] * df['Price']\n",
    "\n",
    "# Regrouper par client et pays, puis calculer la somme totale des montants\n",
    "df_country_amount = df.groupby(['Customer ID', 'Country'])['TotalAmount'].sum().unstack().reset_index()\n",
    "\n",
    "# Remplacer les valeurs manquantes par 0 (pour les clients n'ayant pas dépensé dans un pays spécifique)\n",
    "df_country_amount.fillna(0, inplace=True)\n",
    "\n",
    "# Renommer les colonnes des pays pour refléter l'information\n",
    "df_country_amount.rename(columns={'Country': 'Customer ID'}, inplace=True)\n",
    "\n",
    "# Afficher les premières lignes du résultat\n",
    "print(df_country_amount.head())\n"
   ]
  },
  {
   "cell_type": "code",
   "execution_count": 20,
   "metadata": {},
   "outputs": [
    {
     "data": {
      "text/plain": [
       "(5942, 42)"
      ]
     },
     "execution_count": 20,
     "metadata": {},
     "output_type": "execute_result"
    }
   ],
   "source": [
    "df_country_amount.shape"
   ]
  },
  {
   "attachments": {},
   "cell_type": "markdown",
   "metadata": {},
   "source": [
    "### Time Diff"
   ]
  },
  {
   "cell_type": "code",
   "execution_count": 9,
   "metadata": {},
   "outputs": [
    {
     "name": "stdout",
     "output_type": "stream",
     "text": [
      "   Customer ID   TimeDiff\n",
      "0      12346.0   8.543478\n",
      "1      12608.0   0.000000\n",
      "2      12745.0   4.142857\n",
      "3      12746.0  10.631579\n",
      "4      12747.0   2.816406\n"
     ]
    }
   ],
   "source": [
    "import pandas as pd\n",
    "\n",
    "# Charger le dataset\n",
    "\n",
    "\n",
    "# Convertir la colonne \"InvoiceDate\" en type de données datetime\n",
    "df['InvoiceDate'] = pd.to_datetime(df['InvoiceDate'])\n",
    "\n",
    "# Trier le DataFrame par client et date\n",
    "df_sorted = df.sort_values(by=['Customer ID', 'InvoiceDate'])\n",
    "\n",
    "# Calculer la différence de jours entre les achats pour chaque client\n",
    "df_sorted['TimeDiff'] = df_sorted.groupby('Customer ID')['InvoiceDate'].diff().dt.days\n",
    "\n",
    "# Calculer la fréquence d'achat (nombre moyen de jours entre les achats) pour chaque client\n",
    "df_frequency = df_sorted.groupby('Customer ID')['TimeDiff'].mean().reset_index()\n",
    "\n",
    "# Afficher les premières lignes du résultat\n",
    "print(df_frequency.head())\n"
   ]
  },
  {
   "cell_type": "code",
   "execution_count": 10,
   "metadata": {},
   "outputs": [
    {
     "data": {
      "text/plain": [
       "(5410, 2)"
      ]
     },
     "execution_count": 10,
     "metadata": {},
     "output_type": "execute_result"
    }
   ],
   "source": [
    "df_frequency.shape"
   ]
  },
  {
   "attachments": {},
   "cell_type": "markdown",
   "metadata": {},
   "source": [
    "### Total Amount"
   ]
  },
  {
   "cell_type": "code",
   "execution_count": 11,
   "metadata": {},
   "outputs": [
    {
     "name": "stdout",
     "output_type": "stream",
     "text": [
      "   Customer ID  TotalAmount\n",
      "0      12346.0       -51.74\n",
      "1      12608.0       415.79\n",
      "2      12745.0       723.85\n",
      "3      12746.0       230.85\n",
      "4      12747.0      8786.53\n"
     ]
    }
   ],
   "source": [
    "import pandas as pd\n",
    "\n",
    "# Charger le dataset\n",
    "\n",
    "# Calculer le montant total des achats par client\n",
    "df['TotalAmount'] = df['Quantity'] * df['Price']\n",
    "\n",
    "# Regrouper par client et calculer la somme totale des montants\n",
    "df_total_amount = df.groupby('Customer ID')['TotalAmount'].sum().reset_index()\n",
    "\n",
    "# Afficher les premières lignes du résultat\n",
    "print(df_total_amount.head())\n"
   ]
  },
  {
   "cell_type": "code",
   "execution_count": 12,
   "metadata": {},
   "outputs": [
    {
     "data": {
      "text/plain": [
       "(5410, 2)"
      ]
     },
     "execution_count": 12,
     "metadata": {},
     "output_type": "execute_result"
    }
   ],
   "source": [
    "df_total_amount.shape"
   ]
  },
  {
   "attachments": {},
   "cell_type": "markdown",
   "metadata": {},
   "source": [
    "### Moyen achat"
   ]
  },
  {
   "cell_type": "code",
   "execution_count": 13,
   "metadata": {},
   "outputs": [
    {
     "name": "stdout",
     "output_type": "stream",
     "text": [
      "   Customer ID  AverageAmount\n",
      "0      12346.0      -1.100851\n",
      "1      12608.0      25.986875\n",
      "2      12745.0      32.902273\n",
      "3      12746.0      11.542500\n",
      "4      12747.0      34.188833\n"
     ]
    }
   ],
   "source": [
    "import pandas as pd\n",
    "\n",
    "# Charger le dataset\n",
    "\n",
    "\n",
    "# Calculer le montant total des achats par transaction\n",
    "df['TotalAmount'] = df['Quantity'] * df['Price']\n",
    "\n",
    "# Regrouper par client et calculer le montant moyen des achats\n",
    "df_avg_amount = df.groupby('Customer ID')['TotalAmount'].mean().reset_index()\n",
    "\n",
    "# Renommer la colonne pour refléter l'information\n",
    "df_avg_amount.rename(columns={'TotalAmount': 'AverageAmount'}, inplace=True)\n",
    "\n",
    "# Afficher les premières lignes du résultat\n",
    "print(df_avg_amount.head())\n"
   ]
  },
  {
   "cell_type": "code",
   "execution_count": 14,
   "metadata": {},
   "outputs": [
    {
     "data": {
      "text/plain": [
       "(5410, 2)"
      ]
     },
     "execution_count": 14,
     "metadata": {},
     "output_type": "execute_result"
    }
   ],
   "source": [
    "df_avg_amount.shape"
   ]
  },
  {
   "cell_type": "code",
   "execution_count": 15,
   "metadata": {},
   "outputs": [
    {
     "data": {
      "text/plain": [
       "5265"
      ]
     },
     "execution_count": 15,
     "metadata": {},
     "output_type": "execute_result"
    }
   ],
   "source": [
    "df['Description'].nunique()"
   ]
  },
  {
   "attachments": {},
   "cell_type": "markdown",
   "metadata": {},
   "source": [
    "### Merge"
   ]
  },
  {
   "cell_type": "code",
   "execution_count": 20,
   "metadata": {},
   "outputs": [
    {
     "name": "stdout",
     "output_type": "stream",
     "text": [
      "   Customer ID  AverageAmount  TotalAmount   TimeDiff\n",
      "0      12346.0      -1.100851       -51.74   8.543478\n",
      "1      12608.0      25.986875       415.79   0.000000\n",
      "2      12745.0      32.902273       723.85   4.142857\n",
      "3      12746.0      11.542500       230.85  10.631579\n",
      "4      12747.0      34.188833      8786.53   2.816406\n"
     ]
    }
   ],
   "source": [
    "import pandas as pd\n",
    "\n",
    "# Fusionner les dataframes en utilisant la colonne \"Customer ID\" comme clé de fusion\n",
    "merged_df = pd.merge(df_avg_amount, df_total_amount, on='Customer ID', how='inner')\n",
    "merged_df = pd.merge(merged_df, df_frequency, on='Customer ID', how='inner')\n",
    "# merged_df = pd.merge(merged_df, df_country_amount, on='Customer ID', how='inner')\n",
    "\n",
    "# Afficher le dataframe fusionné\n",
    "print(merged_df.head())\n"
   ]
  },
  {
   "cell_type": "code",
   "execution_count": 23,
   "metadata": {},
   "outputs": [
    {
     "name": "stdout",
     "output_type": "stream",
     "text": [
      "<class 'pandas.core.frame.DataFrame'>\n",
      "Int64Index: 5410 entries, 0 to 5409\n",
      "Data columns (total 4 columns):\n",
      " #   Column         Non-Null Count  Dtype  \n",
      "---  ------         --------------  -----  \n",
      " 0   Customer ID    5410 non-null   float64\n",
      " 1   AverageAmount  5410 non-null   float64\n",
      " 2   TotalAmount    5410 non-null   float64\n",
      " 3   TimeDiff       5272 non-null   float64\n",
      "dtypes: float64(4)\n",
      "memory usage: 211.3 KB\n"
     ]
    }
   ],
   "source": [
    "merged_df.info()"
   ]
  },
  {
   "cell_type": "code",
   "execution_count": 22,
   "metadata": {},
   "outputs": [
    {
     "name": "stdout",
     "output_type": "stream",
     "text": [
      "<class 'pandas.core.frame.DataFrame'>\n",
      "Int64Index: 716115 entries, 0 to 797868\n",
      "Data columns (total 16 columns):\n",
      " #   Column       Non-Null Count   Dtype         \n",
      "---  ------       --------------   -----         \n",
      " 0   Invoice      716115 non-null  object        \n",
      " 1   StockCode    716115 non-null  object        \n",
      " 2   Description  716115 non-null  object        \n",
      " 3   Quantity     716115 non-null  int64         \n",
      " 4   InvoiceDate  716115 non-null  datetime64[ns]\n",
      " 5   Price        716115 non-null  float64       \n",
      " 6   Customer ID  716115 non-null  float64       \n",
      " 7   Country      716115 non-null  object        \n",
      " 8   TotalAmount  716115 non-null  float64       \n",
      " 9   Recency      716115 non-null  int64         \n",
      " 10  Frequency    716115 non-null  int64         \n",
      " 11  Monetary     716115 non-null  float64       \n",
      " 12  R            716115 non-null  int64         \n",
      " 13  F            716115 non-null  int64         \n",
      " 14  M            716115 non-null  int64         \n",
      " 15  RFM          716115 non-null  int64         \n",
      "dtypes: datetime64[ns](1), float64(4), int64(7), object(4)\n",
      "memory usage: 92.9+ MB\n"
     ]
    }
   ],
   "source": [
    "df.info()"
   ]
  },
  {
   "attachments": {},
   "cell_type": "markdown",
   "metadata": {},
   "source": [
    "### Score RFM"
   ]
  },
  {
   "cell_type": "code",
   "execution_count": 16,
   "metadata": {},
   "outputs": [
    {
     "name": "stdout",
     "output_type": "stream",
     "text": [
      "  Invoice StockCode                          Description  Quantity  \\\n",
      "0  489434     85048  15CM CHRISTMAS GLASS BALL 20 LIGHTS        12   \n",
      "1  489434    79323P                   PINK CHERRY LIGHTS        12   \n",
      "2  489434    79323W                  WHITE CHERRY LIGHTS        12   \n",
      "3  489434     22041         RECORD FRAME 7\" SINGLE SIZE         48   \n",
      "4  489434     21232       STRAWBERRY CERAMIC TRINKET BOX        24   \n",
      "\n",
      "          InvoiceDate  Price  Customer ID         Country  TotalAmount  \\\n",
      "0 2009-12-01 07:45:00   6.95      13085.0  United Kingdom         83.4   \n",
      "1 2009-12-01 07:45:00   6.75      13085.0  United Kingdom         81.0   \n",
      "2 2009-12-01 07:45:00   6.75      13085.0  United Kingdom         81.0   \n",
      "3 2009-12-01 07:45:00   2.10      13085.0  United Kingdom        100.8   \n",
      "4 2009-12-01 07:45:00   1.25      13085.0  United Kingdom         30.0   \n",
      "\n",
      "   Recency  Frequency  Monetary  R  F  M  RFM  \n",
      "0      157         10   1142.05  1  3  2  132  \n",
      "1      157         10   1142.05  1  3  2  132  \n",
      "2      157         10   1142.05  1  3  2  132  \n",
      "3      157         10   1142.05  1  3  2  132  \n",
      "4      157         10   1142.05  1  3  2  132  \n"
     ]
    }
   ],
   "source": [
    "import pandas as pd\n",
    "\n",
    "\n",
    "\n",
    "# Convertir la colonne \"InvoiceDate\" en type de données datetime\n",
    "df['InvoiceDate'] = pd.to_datetime(df['InvoiceDate'])\n",
    "\n",
    "# Calculer la date la plus récente dans le dataset\n",
    "most_recent_date = df['InvoiceDate'].max()\n",
    "\n",
    "# Calculer la récence (Recency) en jours\n",
    "df['Recency'] = (most_recent_date - df.groupby('Customer ID')['InvoiceDate'].transform('max')).dt.days\n",
    "\n",
    "# Calculer la fréquence (Frequency)\n",
    "df['Frequency'] = df.groupby('Customer ID')['Invoice'].transform('nunique')\n",
    "\n",
    "# Calculer le montant (Monetary)\n",
    "df['Monetary'] = df.groupby('Customer ID')['Price'].transform('sum')\n",
    "\n",
    "# Créer une fonction pour attribuer des scores RFM\n",
    "def assign_rfm_score(value, quantiles):\n",
    "    if value <= quantiles[0]:\n",
    "        return 4\n",
    "    elif value <= quantiles[1]:\n",
    "        return 3\n",
    "    elif value <= quantiles[2]:\n",
    "        return 2\n",
    "    else:\n",
    "        return 1\n",
    "\n",
    "# Calculer les quantiles pour chaque mesure RFM\n",
    "recency_quantiles = df['Recency'].quantile(q=[0.25, 0.5, 0.75]).values\n",
    "frequency_quantiles = df['Frequency'].quantile(q=[0.25, 0.5, 0.75]).values\n",
    "monetary_quantiles = df['Monetary'].quantile(q=[0.25, 0.5, 0.75]).values\n",
    "\n",
    "# Appliquer la fonction d'assignation des scores RFM pour chaque mesure\n",
    "df['R'] = df['Recency'].apply(assign_rfm_score, args=(recency_quantiles,))\n",
    "df['F'] = df['Frequency'].apply(assign_rfm_score, args=(frequency_quantiles,))\n",
    "df['M'] = df['Monetary'].apply(assign_rfm_score, args=(monetary_quantiles,))\n",
    "\n",
    "# Concaténer les scores R, F, M pour créer l'indice RFM\n",
    "df['RFM'] = df['R'].astype(str) + df['F'].astype(str) + df['M'].astype(str)\n",
    "\n",
    "# Afficher le dataframe avec l'indice RFM\n",
    "print(df.head())\n",
    "\n"
   ]
  },
  {
   "cell_type": "code",
   "execution_count": 17,
   "metadata": {},
   "outputs": [],
   "source": [
    "df['RFM'] = df['RFM'].astype(int)"
   ]
  },
  {
   "cell_type": "code",
   "execution_count": 18,
   "metadata": {},
   "outputs": [
    {
     "name": "stdout",
     "output_type": "stream",
     "text": [
      "   Customer ID    R    F    M    RFM\n",
      "0      12346.0  1.0  2.0  3.0  123.0\n",
      "1      12608.0  1.0  4.0  4.0  144.0\n",
      "2      12745.0  1.0  4.0  4.0  144.0\n",
      "3      12746.0  1.0  4.0  4.0  144.0\n",
      "4      12747.0  4.0  1.0  2.0  412.0\n"
     ]
    }
   ],
   "source": [
    "# Effectuer un groupby sur Customer ID pour les colonnes R, F, M et RFM\n",
    "df_grouped_RFM = df.groupby('Customer ID').agg({'R': 'mean', 'F': 'mean', 'M': 'mean', 'RFM': 'mean'}).reset_index()\n",
    "\n",
    "# Afficher le DataFrame résultant\n",
    "print(df_grouped_RFM.head())\n"
   ]
  },
  {
   "cell_type": "code",
   "execution_count": 24,
   "metadata": {},
   "outputs": [
    {
     "data": {
      "text/plain": [
       "(5410, 5)"
      ]
     },
     "execution_count": 24,
     "metadata": {},
     "output_type": "execute_result"
    }
   ],
   "source": [
    "df_grouped_RFM.shape"
   ]
  },
  {
   "cell_type": "code",
   "execution_count": 25,
   "metadata": {},
   "outputs": [],
   "source": [
    "merged_df = pd.merge(merged_df, df_grouped_RFM, on='Customer ID', how='inner')\n",
    "\n"
   ]
  },
  {
   "cell_type": "code",
   "execution_count": 26,
   "metadata": {},
   "outputs": [
    {
     "data": {
      "text/html": [
       "<div>\n",
       "<style scoped>\n",
       "    .dataframe tbody tr th:only-of-type {\n",
       "        vertical-align: middle;\n",
       "    }\n",
       "\n",
       "    .dataframe tbody tr th {\n",
       "        vertical-align: top;\n",
       "    }\n",
       "\n",
       "    .dataframe thead th {\n",
       "        text-align: right;\n",
       "    }\n",
       "</style>\n",
       "<table border=\"1\" class=\"dataframe\">\n",
       "  <thead>\n",
       "    <tr style=\"text-align: right;\">\n",
       "      <th></th>\n",
       "      <th>Customer ID</th>\n",
       "      <th>AverageAmount</th>\n",
       "      <th>TotalAmount</th>\n",
       "      <th>TimeDiff</th>\n",
       "      <th>R</th>\n",
       "      <th>F</th>\n",
       "      <th>M</th>\n",
       "      <th>RFM</th>\n",
       "    </tr>\n",
       "  </thead>\n",
       "  <tbody>\n",
       "    <tr>\n",
       "      <th>0</th>\n",
       "      <td>12346.0</td>\n",
       "      <td>-1.100851</td>\n",
       "      <td>-51.74</td>\n",
       "      <td>8.543478</td>\n",
       "      <td>1.0</td>\n",
       "      <td>2.0</td>\n",
       "      <td>3.0</td>\n",
       "      <td>123.0</td>\n",
       "    </tr>\n",
       "    <tr>\n",
       "      <th>1</th>\n",
       "      <td>12608.0</td>\n",
       "      <td>25.986875</td>\n",
       "      <td>415.79</td>\n",
       "      <td>0.000000</td>\n",
       "      <td>1.0</td>\n",
       "      <td>4.0</td>\n",
       "      <td>4.0</td>\n",
       "      <td>144.0</td>\n",
       "    </tr>\n",
       "    <tr>\n",
       "      <th>2</th>\n",
       "      <td>12745.0</td>\n",
       "      <td>32.902273</td>\n",
       "      <td>723.85</td>\n",
       "      <td>4.142857</td>\n",
       "      <td>1.0</td>\n",
       "      <td>4.0</td>\n",
       "      <td>4.0</td>\n",
       "      <td>144.0</td>\n",
       "    </tr>\n",
       "    <tr>\n",
       "      <th>3</th>\n",
       "      <td>12746.0</td>\n",
       "      <td>11.542500</td>\n",
       "      <td>230.85</td>\n",
       "      <td>10.631579</td>\n",
       "      <td>1.0</td>\n",
       "      <td>4.0</td>\n",
       "      <td>4.0</td>\n",
       "      <td>144.0</td>\n",
       "    </tr>\n",
       "    <tr>\n",
       "      <th>4</th>\n",
       "      <td>12747.0</td>\n",
       "      <td>34.188833</td>\n",
       "      <td>8786.53</td>\n",
       "      <td>2.816406</td>\n",
       "      <td>4.0</td>\n",
       "      <td>1.0</td>\n",
       "      <td>2.0</td>\n",
       "      <td>412.0</td>\n",
       "    </tr>\n",
       "  </tbody>\n",
       "</table>\n",
       "</div>"
      ],
      "text/plain": [
       "   Customer ID  AverageAmount  TotalAmount   TimeDiff    R    F    M    RFM\n",
       "0      12346.0      -1.100851       -51.74   8.543478  1.0  2.0  3.0  123.0\n",
       "1      12608.0      25.986875       415.79   0.000000  1.0  4.0  4.0  144.0\n",
       "2      12745.0      32.902273       723.85   4.142857  1.0  4.0  4.0  144.0\n",
       "3      12746.0      11.542500       230.85  10.631579  1.0  4.0  4.0  144.0\n",
       "4      12747.0      34.188833      8786.53   2.816406  4.0  1.0  2.0  412.0"
      ]
     },
     "execution_count": 26,
     "metadata": {},
     "output_type": "execute_result"
    }
   ],
   "source": [
    "merged_df.head()"
   ]
  },
  {
   "cell_type": "code",
   "execution_count": 27,
   "metadata": {},
   "outputs": [],
   "source": [
    "merged_df.to_csv('Feature_engin_treated.csv',index=False)"
   ]
  },
  {
   "cell_type": "code",
   "execution_count": 28,
   "metadata": {},
   "outputs": [
    {
     "name": "stdout",
     "output_type": "stream",
     "text": [
      "<class 'pandas.core.frame.DataFrame'>\n",
      "Int64Index: 5410 entries, 0 to 5409\n",
      "Data columns (total 8 columns):\n",
      " #   Column         Non-Null Count  Dtype  \n",
      "---  ------         --------------  -----  \n",
      " 0   Customer ID    5410 non-null   float64\n",
      " 1   AverageAmount  5410 non-null   float64\n",
      " 2   TotalAmount    5410 non-null   float64\n",
      " 3   TimeDiff       5272 non-null   float64\n",
      " 4   R              5410 non-null   float64\n",
      " 5   F              5410 non-null   float64\n",
      " 6   M              5410 non-null   float64\n",
      " 7   RFM            5410 non-null   float64\n",
      "dtypes: float64(8)\n",
      "memory usage: 380.4 KB\n"
     ]
    }
   ],
   "source": [
    "merged_df.info()"
   ]
  },
  {
   "cell_type": "code",
   "execution_count": 29,
   "metadata": {},
   "outputs": [
    {
     "name": "stdout",
     "output_type": "stream",
     "text": [
      "<class 'pandas.core.frame.DataFrame'>\n",
      "Int64Index: 716115 entries, 0 to 797868\n",
      "Data columns (total 16 columns):\n",
      " #   Column       Non-Null Count   Dtype         \n",
      "---  ------       --------------   -----         \n",
      " 0   Invoice      716115 non-null  object        \n",
      " 1   StockCode    716115 non-null  object        \n",
      " 2   Description  716115 non-null  object        \n",
      " 3   Quantity     716115 non-null  int64         \n",
      " 4   InvoiceDate  716115 non-null  datetime64[ns]\n",
      " 5   Price        716115 non-null  float64       \n",
      " 6   Customer ID  716115 non-null  float64       \n",
      " 7   Country      716115 non-null  object        \n",
      " 8   TotalAmount  716115 non-null  float64       \n",
      " 9   Recency      716115 non-null  int64         \n",
      " 10  Frequency    716115 non-null  int64         \n",
      " 11  Monetary     716115 non-null  float64       \n",
      " 12  R            716115 non-null  int64         \n",
      " 13  F            716115 non-null  int64         \n",
      " 14  M            716115 non-null  int64         \n",
      " 15  RFM          716115 non-null  int64         \n",
      "dtypes: datetime64[ns](1), float64(4), int64(7), object(4)\n",
      "memory usage: 92.9+ MB\n"
     ]
    }
   ],
   "source": [
    "df.info()"
   ]
  },
  {
   "cell_type": "code",
   "execution_count": null,
   "metadata": {},
   "outputs": [],
   "source": []
  }
 ],
 "metadata": {
  "kernelspec": {
   "display_name": "ML-env",
   "language": "python",
   "name": "python3"
  },
  "language_info": {
   "codemirror_mode": {
    "name": "ipython",
    "version": 3
   },
   "file_extension": ".py",
   "mimetype": "text/x-python",
   "name": "python",
   "nbconvert_exporter": "python",
   "pygments_lexer": "ipython3",
   "version": "3.10.9"
  },
  "orig_nbformat": 4,
  "vscode": {
   "interpreter": {
    "hash": "878092cf0169fc6951e1f6c32921b75f6c36905fe66a8d7b0fe42b541b9c8705"
   }
  }
 },
 "nbformat": 4,
 "nbformat_minor": 2
}
