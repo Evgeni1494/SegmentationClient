{
 "cells": [
  {
   "attachments": {},
   "cell_type": "markdown",
   "metadata": {},
   "source": [
    "Vous serez évalué sur la qualité de votre présentation orale. Réservez-vous un temps conséquent pour la préparer. Je pense que vous devez finir la partie code/exploration pour ce soir/demain matin maximum. Ensuite, préparez vos slides, interprétez vos graphiques et vos résultats.\n",
    "\n",
    "Quelques rappels importants : \n",
    "- Tout graphique doit être accompagné d'un titre, de légendes et d'étiquettes sur les axes.\n",
    "\n",
    "- Ce projet vous laisse de la marge de manoeuvre sur les pistes à suivre. Veillez à justifier tout vos choix.\n",
    "\n",
    "- Transformer un notebook en une présentation captivante demande des efforts.\n",
    "\n",
    "- Votre audience sera non technique, si vous utilisez un concept, prenez le temps de vulgariser ce que c'est (K-means, ARI, etc.)\n",
    "\n",
    "- Ce n'est pas parce que vous avez fait un graphique dans votre notebook qu'il faut le présenter à l'oral.\n",
    "\n",
    "- Les slides ne sont pas un support de lecture pour ceux qui présentent. (évitez les blocs de texte, favorisez les puces)\n",
    "\n",
    "- Un projet de machine learning n'est jamais vraiment terminé, vous pourrez toujours rajouter des éléments additionnels, c'est à \n",
    "vous de savoir vous arrêtez par rapport aux contraintes temporels. Si vous avez des idées non-implémentées, vous devez les reporter dans la partie piste d'amélioration\n",
    "\n",
    "- Essayer de faire du story-telling avec la donnée. Contextualiser, faites une introduction/conclusion. Utiliser les bons graphiques pour le bon type de donnée. Utiliser les couleurs, le gras, italique, etc. pour mettre en valeur certains propos/concepts. Pour en savoir plus, je vous conseille le livre : Storytelling with Data."
   ]
  },
  {
   "attachments": {},
   "cell_type": "markdown",
   "metadata": {},
   "source": [
    "- comprendre le comportement de leurs clients et d'adapter leurs offres en conséquence.\n",
    "\n",
    "- Uk Retail aimerait améliorer l’impact de ses campagnes marketing.\n",
    "\n",
    "- aider leurs équipes marketing à améliorer le taux de retour de leur campagne de communication.\n",
    "\n",
    "- proposer une segmentation des clients basée sur leur comportement d'achat.\n",
    "\n",
    "- analyser les performances de l’entreprise et les tendances globales.\n",
    "\n",
    "- utiliser les caractéristiques spécifiques de chaque cluster afin d'émettre des recommandations actionnables par l'équipe marketing.\n",
    "\n",
    "- proposer un contrat de maintenace.\n",
    "\n"
   ]
  },
  {
   "attachments": {},
   "cell_type": "markdown",
   "metadata": {},
   "source": [
    "## Comportement Client"
   ]
  },
  {
   "attachments": {},
   "cell_type": "markdown",
   "metadata": {},
   "source": [
    "Dans l'ensemble :\n",
    "\n",
    "- Grand rush de consomation vers la fin d'année.\n",
    "\n",
    "- Période de calme durant les 2-3 premiers mois de l'année.\n",
    "\n",
    "- entre 6 et 7 milles clients sur deux ans.\n",
    "\n"
   ]
  },
  {
   "attachments": {},
   "cell_type": "markdown",
   "metadata": {},
   "source": [
    "## Profiles"
   ]
  },
  {
   "attachments": {},
   "cell_type": "markdown",
   "metadata": {},
   "source": [
    "### Charles"
   ]
  },
  {
   "attachments": {},
   "cell_type": "markdown",
   "metadata": {},
   "source": [
    "Caracteristiques :\n",
    "\n",
    "- Ancien client.\n",
    "\n",
    "- Achete moyennement assez Frequement.\n",
    "\n",
    "- Sa fait un moment qu'il a pas acheté.\n",
    "\n",
    "Stratégies :\n",
    "\n",
    "- Campagne de réactivation : Lancez une campagne de réactivation spécifique pour ce groupe de clients. Envoyez-leur des e-mails personnalisés ou des messages promotionnels pour les inciter à revenir. Offrez-leur une remise spéciale ou un cadeau pour leur prochain achat afin de les encourager à agir.\n",
    "\n",
    "- Offre de retour : Créez une offre attrayante exclusive pour les anciens clients qui n'ont pas acheté depuis un certain temps. Proposez-leur une remise significative sur leurs prochains achats ou une offre spéciale pour les inciter à revenir.\n",
    "\n",
    "- Enquête de satisfaction : Envoyez une enquête de satisfaction à ces anciens clients pour comprendre pourquoi ils ont arrêté d'acheter chez vous. Utilisez ces informations pour améliorer votre offre, votre service client ou vos processus internes. Montrez-leur que vous êtes à l'écoute de leurs préoccupations.\n",
    "\n",
    "- Essai gratuit ou échantillon : Proposez à ces anciens clients un essai gratuit ou un échantillon de l'un de vos produits ou services. Cela leur permettra de redécouvrir la valeur de votre offre et peut les inciter à effectuer un nouvel achat.\n"
   ]
  },
  {
   "attachments": {},
   "cell_type": "markdown",
   "metadata": {},
   "source": [
    "### Antoine"
   ]
  },
  {
   "attachments": {},
   "cell_type": "markdown",
   "metadata": {},
   "source": [
    "Caracteristiques :\n",
    "\n",
    "- Client nouveau.\n",
    "\n",
    "- A fait un achat recement.\n",
    "\n",
    "- Achete a une fréquence reduite.\n",
    "\n",
    "- Montants d'achats petit.\n",
    "\n",
    "Stratégies : \n",
    "\n",
    "- Programme de bienvenue : Mettez en place un programme de bienvenue pour les nouveaux clients. Offrez-leur une remise ou un cadeau spécial pour leur premier achat afin de les inciter à revenir. Faites-leur sentir qu'ils sont appréciés et valorisés dès le départ.\n",
    "\n",
    "- Offres promotionnelles régulières : Créez des offres promotionnelles régulières et attrayantes pour inciter les nouveaux clients à revenir et à effectuer d'autres achats. \n",
    "\n",
    "- Programme de parrainage : Encouragez les nouveaux clients à recommander votre entreprise à leurs proches en mettant en place un programme de parrainage.\n",
    "\n"
   ]
  },
  {
   "attachments": {},
   "cell_type": "markdown",
   "metadata": {},
   "source": [
    "### Jeremy"
   ]
  },
  {
   "attachments": {},
   "cell_type": "markdown",
   "metadata": {},
   "source": [
    "Caracteristiques :\n",
    "\n",
    "- Ancien client fidele.\n",
    "\n",
    "- Achete gros et régulierement.\n",
    "\n",
    "- Sans doutes connue personellement dans l'éntreprise.\n",
    "\n",
    "Stratégies :\n",
    "\n",
    "- Programme de fidélité amélioré : Renforcez votre programme de fidélité en offrant des récompenses spéciales et des avantages exclusifs pour les clients fidèles. \n",
    "\n",
    "- Programme de parrainage : Encouragez vos clients fidèles à recommander vos produits ou services à leurs proches en mettant en place un programme de parrainage.\n",
    "\n",
    "- Offres et promotions spéciales : Créez des offres et des promotions spéciales exclusivement réservées à vos clients fidèles.\n",
    "\n",
    "- Communication personnalisée : Établissez une communication personnalisée avec vos clients fidèles.\n",
    "\n",
    "- Programme de récompenses VIP : Créez un programme de récompenses VIP exclusif pour vos clients les plus fidèles et les plus dépensiers.\n",
    "\n",
    "- Service client de qualité supérieure : Assurez-vous d'offrir un service client exceptionnel à vos clients fidèles. \n",
    "\n",
    "- Résolvez leurs problèmes de manière proactive.\n",
    "\n",
    "- Collecte de feedback : Impliquez vos clients fidèles dans le processus d'amélioration de vos produits ou services en leur demandant leur avis et leurs suggestions\n",
    "\n",
    "- Événements spéciaux et exclusifs : Organisez des événements spéciaux réservés à vos clients fidèles, tels que des soirées de reconnaissance, des démonstrations de produits en avant-première ou des rencontres avec l'équipe dirigeante de votre entreprise. Cela renforcera leur sentiment d'appartenance et de privilège.\n"
   ]
  },
  {
   "attachments": {},
   "cell_type": "markdown",
   "metadata": {},
   "source": [
    "### Safia"
   ]
  },
  {
   "attachments": {},
   "cell_type": "markdown",
   "metadata": {},
   "source": [
    "Caracteristiques :\n",
    "\n",
    "- Ancien client.\n",
    "\n",
    "- A acheté recement.\n",
    "\n",
    "- Frequence d'achat importante.\n",
    "\n",
    "- Montants d'achats reduits.\n",
    "\n",
    "Stratégies :\n",
    "\n",
    "- Offres flash et exclusives : Proposez des offres flash et exclusives à ce groupe de clients. Ces offres limitées dans le temps et disponibles uniquement pour les clients fidèles peuvent les inciter à acheter plus fréquemment et à profiter de remises spéciales.\n",
    "\n",
    "- Offres d'upselling : Identifiez les produits ou services complémentaires à ceux que ces clients achètent régulièrement. Proposez-leur des offres d'upselling en mettant en avant des produits de gamme supérieure ou des fonctionnalités supplémentaires qui pourraient répondre à leurs besoins et les inciter à dépenser plus.\n",
    "\n",
    "- Bundles et packages : Créez des bundles ou des packages regroupant plusieurs produits ou services pertinents. Offrez-les à ces clients à un prix avantageux par rapport à l'achat individuel des articles. Cette approche peut les encourager à augmenter leur montant d'achat en profitant de l'offre groupée.\n",
    "\n",
    "- "
   ]
  },
  {
   "attachments": {},
   "cell_type": "markdown",
   "metadata": {},
   "source": []
  }
 ],
 "metadata": {
  "kernelspec": {
   "display_name": "ML-env",
   "language": "python",
   "name": "python3"
  },
  "language_info": {
   "name": "python",
   "version": "3.10.9 (main, Jan 11 2023, 15:21:40) [GCC 11.2.0]"
  },
  "orig_nbformat": 4,
  "vscode": {
   "interpreter": {
    "hash": "878092cf0169fc6951e1f6c32921b75f6c36905fe66a8d7b0fe42b541b9c8705"
   }
  }
 },
 "nbformat": 4,
 "nbformat_minor": 2
}
