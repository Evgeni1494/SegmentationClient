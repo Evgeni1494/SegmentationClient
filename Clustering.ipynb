{
 "cells": [
  {
   "cell_type": "code",
   "execution_count": 5,
   "metadata": {},
   "outputs": [],
   "source": [
    "import pandas as pd\n",
    "from ydata_profiling import ProfileReport\n",
    "df = pd.read_csv(\"Feature_engin_treated.csv\")"
   ]
  },
  {
   "attachments": {},
   "cell_type": "markdown",
   "metadata": {},
   "source": [
    "### Rapport profiling des features enginered"
   ]
  },
  {
   "cell_type": "code",
   "execution_count": 6,
   "metadata": {},
   "outputs": [
    {
     "data": {
      "application/vnd.jupyter.widget-view+json": {
       "model_id": "88765263123a4c3ba3ccfbcc3bb3e5ec",
       "version_major": 2,
       "version_minor": 0
      },
      "text/plain": [
       "Summarize dataset:   0%|          | 0/5 [00:00<?, ?it/s]"
      ]
     },
     "metadata": {},
     "output_type": "display_data"
    },
    {
     "data": {
      "application/vnd.jupyter.widget-view+json": {
       "model_id": "ab7ff86098fb4d7ea4e4f11539524af7",
       "version_major": 2,
       "version_minor": 0
      },
      "text/plain": [
       "Generate report structure:   0%|          | 0/1 [00:00<?, ?it/s]"
      ]
     },
     "metadata": {},
     "output_type": "display_data"
    },
    {
     "data": {
      "application/vnd.jupyter.widget-view+json": {
       "model_id": "952e89bf1b3a443aa1e4b90b64b7c482",
       "version_major": 2,
       "version_minor": 0
      },
      "text/plain": [
       "Render HTML:   0%|          | 0/1 [00:00<?, ?it/s]"
      ]
     },
     "metadata": {},
     "output_type": "display_data"
    },
    {
     "data": {
      "application/vnd.jupyter.widget-view+json": {
       "model_id": "13c43a890a694b4988e352eea269c710",
       "version_major": 2,
       "version_minor": 0
      },
      "text/plain": [
       "Export report to file:   0%|          | 0/1 [00:00<?, ?it/s]"
      ]
     },
     "metadata": {},
     "output_type": "display_data"
    }
   ],
   "source": [
    "\n",
    "# Charger le dataset\n",
    "df = pd.read_csv('Feature_engin_treated.csv')\n",
    "\n",
    "# Générer le rapport de profiling\n",
    "report = ProfileReport(df)\n",
    "\n",
    "# Sauvegarder le rapport au format HTML\n",
    "report.to_file('rapport_engin.html')\n"
   ]
  },
  {
   "cell_type": "code",
   "execution_count": 7,
   "metadata": {},
   "outputs": [
    {
     "data": {
      "text/html": [
       "<div>\n",
       "<style scoped>\n",
       "    .dataframe tbody tr th:only-of-type {\n",
       "        vertical-align: middle;\n",
       "    }\n",
       "\n",
       "    .dataframe tbody tr th {\n",
       "        vertical-align: top;\n",
       "    }\n",
       "\n",
       "    .dataframe thead th {\n",
       "        text-align: right;\n",
       "    }\n",
       "</style>\n",
       "<table border=\"1\" class=\"dataframe\">\n",
       "  <thead>\n",
       "    <tr style=\"text-align: right;\">\n",
       "      <th></th>\n",
       "      <th>Customer ID</th>\n",
       "      <th>AverageAmount</th>\n",
       "      <th>TotalAmount</th>\n",
       "      <th>TimeDiff</th>\n",
       "      <th>R</th>\n",
       "      <th>F</th>\n",
       "      <th>M</th>\n",
       "      <th>RFM</th>\n",
       "    </tr>\n",
       "  </thead>\n",
       "  <tbody>\n",
       "    <tr>\n",
       "      <th>0</th>\n",
       "      <td>12346.0</td>\n",
       "      <td>-1.100851</td>\n",
       "      <td>-51.74</td>\n",
       "      <td>8.543478</td>\n",
       "      <td>1.0</td>\n",
       "      <td>2.0</td>\n",
       "      <td>3.0</td>\n",
       "      <td>123.0</td>\n",
       "    </tr>\n",
       "    <tr>\n",
       "      <th>1</th>\n",
       "      <td>12347.0</td>\n",
       "      <td>22.169054</td>\n",
       "      <td>4921.53</td>\n",
       "      <td>1.805430</td>\n",
       "      <td>4.0</td>\n",
       "      <td>3.0</td>\n",
       "      <td>3.0</td>\n",
       "      <td>433.0</td>\n",
       "    </tr>\n",
       "    <tr>\n",
       "      <th>2</th>\n",
       "      <td>12348.0</td>\n",
       "      <td>39.596078</td>\n",
       "      <td>2019.40</td>\n",
       "      <td>7.240000</td>\n",
       "      <td>1.0</td>\n",
       "      <td>4.0</td>\n",
       "      <td>4.0</td>\n",
       "      <td>144.0</td>\n",
       "    </tr>\n",
       "    <tr>\n",
       "      <th>3</th>\n",
       "      <td>12349.0</td>\n",
       "      <td>24.469667</td>\n",
       "      <td>4404.54</td>\n",
       "      <td>3.994413</td>\n",
       "      <td>3.0</td>\n",
       "      <td>4.0</td>\n",
       "      <td>2.0</td>\n",
       "      <td>342.0</td>\n",
       "    </tr>\n",
       "    <tr>\n",
       "      <th>4</th>\n",
       "      <td>12350.0</td>\n",
       "      <td>19.670588</td>\n",
       "      <td>334.40</td>\n",
       "      <td>0.000000</td>\n",
       "      <td>1.0</td>\n",
       "      <td>4.0</td>\n",
       "      <td>4.0</td>\n",
       "      <td>144.0</td>\n",
       "    </tr>\n",
       "  </tbody>\n",
       "</table>\n",
       "</div>"
      ],
      "text/plain": [
       "   Customer ID  AverageAmount  TotalAmount  TimeDiff    R    F    M    RFM\n",
       "0      12346.0      -1.100851       -51.74  8.543478  1.0  2.0  3.0  123.0\n",
       "1      12347.0      22.169054      4921.53  1.805430  4.0  3.0  3.0  433.0\n",
       "2      12348.0      39.596078      2019.40  7.240000  1.0  4.0  4.0  144.0\n",
       "3      12349.0      24.469667      4404.54  3.994413  3.0  4.0  2.0  342.0\n",
       "4      12350.0      19.670588       334.40  0.000000  1.0  4.0  4.0  144.0"
      ]
     },
     "execution_count": 7,
     "metadata": {},
     "output_type": "execute_result"
    }
   ],
   "source": [
    "df.head()"
   ]
  },
  {
   "cell_type": "code",
   "execution_count": 8,
   "metadata": {},
   "outputs": [
    {
     "name": "stdout",
     "output_type": "stream",
     "text": [
      "<class 'pandas.core.frame.DataFrame'>\n",
      "RangeIndex: 5942 entries, 0 to 5941\n",
      "Data columns (total 8 columns):\n",
      " #   Column         Non-Null Count  Dtype  \n",
      "---  ------         --------------  -----  \n",
      " 0   Customer ID    5942 non-null   float64\n",
      " 1   AverageAmount  5942 non-null   float64\n",
      " 2   TotalAmount    5942 non-null   float64\n",
      " 3   TimeDiff       5791 non-null   float64\n",
      " 4   R              5942 non-null   float64\n",
      " 5   F              5942 non-null   float64\n",
      " 6   M              5942 non-null   float64\n",
      " 7   RFM            5942 non-null   float64\n",
      "dtypes: float64(8)\n",
      "memory usage: 371.5 KB\n"
     ]
    }
   ],
   "source": [
    "df.info()"
   ]
  },
  {
   "attachments": {},
   "cell_type": "markdown",
   "metadata": {},
   "source": [
    "### Methode du coude"
   ]
  },
  {
   "cell_type": "code",
   "execution_count": 16,
   "metadata": {},
   "outputs": [
    {
     "data": {
      "text/plain": [
       "Customer ID      0\n",
       "AverageAmount    0\n",
       "TotalAmount      0\n",
       "TimeDiff         0\n",
       "R                0\n",
       "F                0\n",
       "M                0\n",
       "RFM              0\n",
       "dtype: int64"
      ]
     },
     "execution_count": 16,
     "metadata": {},
     "output_type": "execute_result"
    }
   ],
   "source": [
    "df_cleansed = df.dropna()\n",
    "df_cleansed.isna().sum()"
   ]
  },
  {
   "cell_type": "code",
   "execution_count": 20,
   "metadata": {},
   "outputs": [
    {
     "data": {
      "image/png": "[encoded data removed]",
      "text/plain": [
       "<Figure size 640x480 with 1 Axes>"
      ]
     },
     "metadata": {},
     "output_type": "display_data"
    },
    {
     "data": {
      "image/png": "[encoded data removed]",
      "text/plain": [
       "<Figure size 1000x600 with 1 Axes>"
      ]
     },
     "metadata": {},
     "output_type": "display_data"
    },
    {
     "data": {
      "image/png": "[encoded data removed]",
      "text/plain": [
       "<Figure size 1000x600 with 1 Axes>"
      ]
     },
     "metadata": {},
     "output_type": "display_data"
    }
   ],
   "source": [
    "import pandas as pd\n",
    "import seaborn as sns\n",
    "import matplotlib.pyplot as plt\n",
    "from sklearn.cluster import KMeans\n",
    "\n",
    "%matplotlib inline\n",
    "\n",
    "columns = ['AverageAmount', 'TotalAmount', 'TimeDiff', 'R', 'F', 'M', 'RFM']\n",
    "data = df_cleansed[columns]\n",
    "\n",
    "inertias = []\n",
    "\n",
    "for k in range(1, 11):\n",
    "    kmeans = KMeans(n_clusters=k, random_state=42)\n",
    "    kmeans.fit(data)\n",
    "    inertias.append(kmeans.inertia_)\n",
    "\n",
    "plt.figure(figsize=(10, 6))\n",
    "sns.lineplot(x=range(1, 11), y=inertias, marker='o')\n",
    "plt.xlabel('Nombre de clusters')\n",
    "plt.ylabel('Inertie')\n",
    "plt.title('Méthode du coude')\n",
    "plt.show()\n"
   ]
  },
  {
   "attachments": {},
   "cell_type": "markdown",
   "metadata": {},
   "source": [
    "### Clustering"
   ]
  },
  {
   "cell_type": "code",
   "execution_count": 41,
   "metadata": {},
   "outputs": [
    {
     "data": {
      "text/plain": [
       "Customer ID      0\n",
       "AverageAmount    0\n",
       "TotalAmount      0\n",
       "TimeDiff         0\n",
       "R                0\n",
       "F                0\n",
       "M                0\n",
       "RFM              0\n",
       "dtype: int64"
      ]
     },
     "execution_count": 41,
     "metadata": {},
     "output_type": "execute_result"
    }
   ],
   "source": [
    "df_cleansed = df.dropna()\n",
    "df_cleansed.isna().sum()"
   ]
  },
  {
   "cell_type": "code",
   "execution_count": 44,
   "metadata": {},
   "outputs": [
    {
     "name": "stdout",
     "output_type": "stream",
     "text": [
      "<class 'pandas.core.frame.DataFrame'>\n",
      "Int64Index: 5791 entries, 0 to 5941\n",
      "Data columns (total 8 columns):\n",
      " #   Column         Non-Null Count  Dtype  \n",
      "---  ------         --------------  -----  \n",
      " 0   Customer ID    5791 non-null   float64\n",
      " 1   AverageAmount  5791 non-null   float64\n",
      " 2   TotalAmount    5791 non-null   float64\n",
      " 3   TimeDiff       5791 non-null   float64\n",
      " 4   R              5791 non-null   float64\n",
      " 5   F              5791 non-null   float64\n",
      " 6   M              5791 non-null   float64\n",
      " 7   RFM            5791 non-null   float64\n",
      "dtypes: float64(8)\n",
      "memory usage: 407.2 KB\n"
     ]
    }
   ],
   "source": [
    "df_cleansed.info()"
   ]
  },
  {
   "cell_type": "code",
   "execution_count": 42,
   "metadata": {},
   "outputs": [
    {
     "data": {
      "text/plain": [
       "(5791, 8)"
      ]
     },
     "execution_count": 42,
     "metadata": {},
     "output_type": "execute_result"
    }
   ],
   "source": [
    "df_cleansed.shape"
   ]
  },
  {
   "cell_type": "code",
   "execution_count": 69,
   "metadata": {},
   "outputs": [
    {
     "name": "stderr",
     "output_type": "stream",
     "text": [
      "/tmp/ipykernel_23112/27775687.py:23: SettingWithCopyWarning: \n",
      "A value is trying to be set on a copy of a slice from a DataFrame.\n",
      "Try using .loc[row_indexer,col_indexer] = value instead\n",
      "\n",
      "See the caveats in the documentation: https://pandas.pydata.org/pandas-docs/stable/user_guide/indexing.html#returning-a-view-versus-a-copy\n",
      "  df_cleansed['Cluster'] = labels\n"
     ]
    }
   ],
   "source": [
    "import pandas as pd\n",
    "from sklearn.pipeline import make_pipeline\n",
    "from sklearn.preprocessing import StandardScaler\n",
    "from sklearn.cluster import KMeans\n",
    "\n",
    "# Charger le dataset\n",
    "\n",
    "\n",
    "# Sélectionner les colonnes à utiliser pour le clustering\n",
    "columns = ['R', 'F', 'M', 'RFM']\n",
    "data = df_cleansed[columns]\n",
    "\n",
    "# Créer le pipeline de standardisation et clustering\n",
    "pipeline = make_pipeline(StandardScaler(), KMeans(n_clusters=4, max_iter=100,random_state=42))\n",
    "\n",
    "# Effectuer le clustering\n",
    "pipeline.fit(data)\n",
    "\n",
    "# Obtenir les labels de cluster pour chaque échantillon\n",
    "labels = pipeline.predict(data)\n",
    "\n",
    "# Ajouter les labels de cluster au DataFrame\n",
    "df_cleansed['Cluster'] = labels\n",
    "\n",
    "# Afficher le DataFrame avec les labels de cluster\n",
    "# print(df_cleansed.head())\n",
    "\n",
    "\n",
    "\n"
   ]
  },
  {
   "cell_type": "code",
   "execution_count": 70,
   "metadata": {},
   "outputs": [
    {
     "name": "stdout",
     "output_type": "stream",
     "text": [
      "<class 'pandas.core.frame.DataFrame'>\n",
      "Int64Index: 5791 entries, 0 to 5941\n",
      "Data columns (total 9 columns):\n",
      " #   Column         Non-Null Count  Dtype  \n",
      "---  ------         --------------  -----  \n",
      " 0   Customer ID    5791 non-null   float64\n",
      " 1   AverageAmount  5791 non-null   float64\n",
      " 2   TotalAmount    5791 non-null   float64\n",
      " 3   TimeDiff       5791 non-null   float64\n",
      " 4   R              5791 non-null   float64\n",
      " 5   F              5791 non-null   float64\n",
      " 6   M              5791 non-null   float64\n",
      " 7   RFM            5791 non-null   float64\n",
      " 8   Cluster        5791 non-null   int32  \n",
      "dtypes: float64(8), int32(1)\n",
      "memory usage: 429.8 KB\n"
     ]
    }
   ],
   "source": [
    "df_cleansed.info()"
   ]
  },
  {
   "cell_type": "code",
   "execution_count": 77,
   "metadata": {},
   "outputs": [
    {
     "data": {
      "image/png": "[encoded data removed]",
      "text/plain": [
       "<Figure size 640x480 with 1 Axes>"
      ]
     },
     "metadata": {},
     "output_type": "display_data"
    }
   ],
   "source": [
    "sns.scatterplot(x='M', y='RFM', hue='Cluster', data=df_cleansed)\n",
    "plt.xlabel('R')\n",
    "plt.ylabel('RFM')\n",
    "plt.title('Clustering Results')\n",
    "plt.show()"
   ]
  },
  {
   "cell_type": "code",
   "execution_count": 55,
   "metadata": {},
   "outputs": [
    {
     "data": {
      "text/html": [
       "<div>\n",
       "<style scoped>\n",
       "    .dataframe tbody tr th:only-of-type {\n",
       "        vertical-align: middle;\n",
       "    }\n",
       "\n",
       "    .dataframe tbody tr th {\n",
       "        vertical-align: top;\n",
       "    }\n",
       "\n",
       "    .dataframe thead th {\n",
       "        text-align: right;\n",
       "    }\n",
       "</style>\n",
       "<table border=\"1\" class=\"dataframe\">\n",
       "  <thead>\n",
       "    <tr style=\"text-align: right;\">\n",
       "      <th></th>\n",
       "      <th>Customer ID</th>\n",
       "      <th>AverageAmount</th>\n",
       "      <th>TotalAmount</th>\n",
       "      <th>TimeDiff</th>\n",
       "      <th>R</th>\n",
       "      <th>F</th>\n",
       "      <th>M</th>\n",
       "      <th>RFM</th>\n",
       "      <th>Cluster</th>\n",
       "    </tr>\n",
       "  </thead>\n",
       "  <tbody>\n",
       "    <tr>\n",
       "      <th>0</th>\n",
       "      <td>12346.0</td>\n",
       "      <td>-1.100851</td>\n",
       "      <td>-51.74</td>\n",
       "      <td>8.543478</td>\n",
       "      <td>1.0</td>\n",
       "      <td>2.0</td>\n",
       "      <td>3.0</td>\n",
       "      <td>123.0</td>\n",
       "      <td>0</td>\n",
       "    </tr>\n",
       "    <tr>\n",
       "      <th>1</th>\n",
       "      <td>12347.0</td>\n",
       "      <td>22.169054</td>\n",
       "      <td>4921.53</td>\n",
       "      <td>1.805430</td>\n",
       "      <td>4.0</td>\n",
       "      <td>3.0</td>\n",
       "      <td>3.0</td>\n",
       "      <td>433.0</td>\n",
       "      <td>1</td>\n",
       "    </tr>\n",
       "    <tr>\n",
       "      <th>2</th>\n",
       "      <td>12348.0</td>\n",
       "      <td>39.596078</td>\n",
       "      <td>2019.40</td>\n",
       "      <td>7.240000</td>\n",
       "      <td>1.0</td>\n",
       "      <td>4.0</td>\n",
       "      <td>4.0</td>\n",
       "      <td>144.0</td>\n",
       "      <td>0</td>\n",
       "    </tr>\n",
       "    <tr>\n",
       "      <th>3</th>\n",
       "      <td>12349.0</td>\n",
       "      <td>24.469667</td>\n",
       "      <td>4404.54</td>\n",
       "      <td>3.994413</td>\n",
       "      <td>3.0</td>\n",
       "      <td>4.0</td>\n",
       "      <td>2.0</td>\n",
       "      <td>342.0</td>\n",
       "      <td>1</td>\n",
       "    </tr>\n",
       "    <tr>\n",
       "      <th>4</th>\n",
       "      <td>12350.0</td>\n",
       "      <td>19.670588</td>\n",
       "      <td>334.40</td>\n",
       "      <td>0.000000</td>\n",
       "      <td>1.0</td>\n",
       "      <td>4.0</td>\n",
       "      <td>4.0</td>\n",
       "      <td>144.0</td>\n",
       "      <td>0</td>\n",
       "    </tr>\n",
       "    <tr>\n",
       "      <th>...</th>\n",
       "      <td>...</td>\n",
       "      <td>...</td>\n",
       "      <td>...</td>\n",
       "      <td>...</td>\n",
       "      <td>...</td>\n",
       "      <td>...</td>\n",
       "      <td>...</td>\n",
       "      <td>...</td>\n",
       "      <td>...</td>\n",
       "    </tr>\n",
       "    <tr>\n",
       "      <th>5937</th>\n",
       "      <td>18283.0</td>\n",
       "      <td>2.841045</td>\n",
       "      <td>2664.90</td>\n",
       "      <td>0.687300</td>\n",
       "      <td>4.0</td>\n",
       "      <td>2.0</td>\n",
       "      <td>2.0</td>\n",
       "      <td>422.0</td>\n",
       "      <td>2</td>\n",
       "    </tr>\n",
       "    <tr>\n",
       "      <th>5938</th>\n",
       "      <td>18284.0</td>\n",
       "      <td>15.057931</td>\n",
       "      <td>436.68</td>\n",
       "      <td>0.071429</td>\n",
       "      <td>1.0</td>\n",
       "      <td>4.0</td>\n",
       "      <td>4.0</td>\n",
       "      <td>144.0</td>\n",
       "      <td>0</td>\n",
       "    </tr>\n",
       "    <tr>\n",
       "      <th>5939</th>\n",
       "      <td>18285.0</td>\n",
       "      <td>35.583333</td>\n",
       "      <td>427.00</td>\n",
       "      <td>0.000000</td>\n",
       "      <td>1.0</td>\n",
       "      <td>4.0</td>\n",
       "      <td>4.0</td>\n",
       "      <td>144.0</td>\n",
       "      <td>0</td>\n",
       "    </tr>\n",
       "    <tr>\n",
       "      <th>5940</th>\n",
       "      <td>18286.0</td>\n",
       "      <td>16.977571</td>\n",
       "      <td>1188.43</td>\n",
       "      <td>3.565217</td>\n",
       "      <td>1.0</td>\n",
       "      <td>4.0</td>\n",
       "      <td>4.0</td>\n",
       "      <td>144.0</td>\n",
       "      <td>0</td>\n",
       "    </tr>\n",
       "    <tr>\n",
       "      <th>5941</th>\n",
       "      <td>18287.0</td>\n",
       "      <td>26.781346</td>\n",
       "      <td>4177.89</td>\n",
       "      <td>4.458065</td>\n",
       "      <td>2.0</td>\n",
       "      <td>3.0</td>\n",
       "      <td>4.0</td>\n",
       "      <td>234.0</td>\n",
       "      <td>1</td>\n",
       "    </tr>\n",
       "  </tbody>\n",
       "</table>\n",
       "<p>5791 rows × 9 columns</p>\n",
       "</div>"
      ],
      "text/plain": [
       "      Customer ID  AverageAmount  TotalAmount  TimeDiff    R    F    M    RFM  \\\n",
       "0         12346.0      -1.100851       -51.74  8.543478  1.0  2.0  3.0  123.0   \n",
       "1         12347.0      22.169054      4921.53  1.805430  4.0  3.0  3.0  433.0   \n",
       "2         12348.0      39.596078      2019.40  7.240000  1.0  4.0  4.0  144.0   \n",
       "3         12349.0      24.469667      4404.54  3.994413  3.0  4.0  2.0  342.0   \n",
       "4         12350.0      19.670588       334.40  0.000000  1.0  4.0  4.0  144.0   \n",
       "...           ...            ...          ...       ...  ...  ...  ...    ...   \n",
       "5937      18283.0       2.841045      2664.90  0.687300  4.0  2.0  2.0  422.0   \n",
       "5938      18284.0      15.057931       436.68  0.071429  1.0  4.0  4.0  144.0   \n",
       "5939      18285.0      35.583333       427.00  0.000000  1.0  4.0  4.0  144.0   \n",
       "5940      18286.0      16.977571      1188.43  3.565217  1.0  4.0  4.0  144.0   \n",
       "5941      18287.0      26.781346      4177.89  4.458065  2.0  3.0  4.0  234.0   \n",
       "\n",
       "      Cluster  \n",
       "0           0  \n",
       "1           1  \n",
       "2           0  \n",
       "3           1  \n",
       "4           0  \n",
       "...       ...  \n",
       "5937        2  \n",
       "5938        0  \n",
       "5939        0  \n",
       "5940        0  \n",
       "5941        1  \n",
       "\n",
       "[5791 rows x 9 columns]"
      ]
     },
     "execution_count": 55,
     "metadata": {},
     "output_type": "execute_result"
    }
   ],
   "source": [
    "df_cleansed"
   ]
  },
  {
   "cell_type": "code",
   "execution_count": 25,
   "metadata": {},
   "outputs": [
    {
     "data": {
      "text/plain": [
       "Customer ID        0\n",
       "AverageAmount      0\n",
       "TotalAmount        0\n",
       "TimeDiff         151\n",
       "R                  0\n",
       "F                  0\n",
       "M                  0\n",
       "RFM                0\n",
       "dtype: int64"
      ]
     },
     "execution_count": 25,
     "metadata": {},
     "output_type": "execute_result"
    }
   ],
   "source": [
    "df.isna().sum()"
   ]
  },
  {
   "cell_type": "code",
   "execution_count": null,
   "metadata": {},
   "outputs": [],
   "source": []
  }
 ],
 "metadata": {
  "kernelspec": {
   "display_name": "ML-env",
   "language": "python",
   "name": "python3"
  },
  "language_info": {
   "codemirror_mode": {
    "name": "ipython",
    "version": 3
   },
   "file_extension": ".py",
   "mimetype": "text/x-python",
   "name": "python",
   "nbconvert_exporter": "python",
   "pygments_lexer": "ipython3",
   "version": "3.10.9"
  },
  "orig_nbformat": 4,
  "vscode": {
   "interpreter": {
    "hash": "878092cf0169fc6951e1f6c32921b75f6c36905fe66a8d7b0fe42b541b9c8705"
   }
  }
 },
 "nbformat": 4,
 "nbformat_minor": 2
}
