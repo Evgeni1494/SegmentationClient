{
 "cells": [
  {
   "cell_type": "code",
   "execution_count": 2,
   "metadata": {},
   "outputs": [],
   "source": [
    "import pandas as pd\n",
    "\n",
    "# Spécifier le nom du fichier Excel\n",
    "excel_file = \"clientbase.xlsx\"\n",
    "\n",
    "# Lire le fichier Excel\n",
    "xls = pd.ExcelFile(excel_file)\n",
    "\n",
    "# Parcourir chaque feuille et les sauvegarder en tant que fichiers CSV\n",
    "for sheet_name in xls.sheet_names:\n",
    "    # Lire la feuille\n",
    "    df = pd.read_excel(excel_file, sheet_name=sheet_name)\n",
    "    \n",
    "    # Nom du fichier CSV à sauvegarder\n",
    "    csv_file = f\"{sheet_name}.csv\"\n",
    "    \n",
    "    # Sauvegarder la feuille en tant que fichier CSV\n",
    "    df.to_csv(csv_file, index=False)\n"
   ]
  },
  {
   "cell_type": "code",
   "execution_count": 3,
   "metadata": {},
   "outputs": [],
   "source": [
    "import pandas as pd\n",
    "\n",
    "# Spécifier les noms des fichiers CSV à concaténer\n",
    "csv_file1 = \"Year 2009-2010.csv\"\n",
    "csv_file2 = \"Year 2010-2011.csv\"\n",
    "\n",
    "# Lire les fichiers CSV\n",
    "df1 = pd.read_csv(csv_file1)\n",
    "df2 = pd.read_csv(csv_file2)\n",
    "\n",
    "# Concaténer les DataFrames\n",
    "concatenated_df = pd.concat([df1, df2], ignore_index=True)\n",
    "\n",
    "# Nom du fichier CSV à sauvegarder\n",
    "output_file = \"baseclient_ensemble.csv\"\n",
    "\n",
    "# Sauvegarder le DataFrame concaténé en tant que fichier CSV\n",
    "concatenated_df.to_csv(output_file, index=False)\n"
   ]
  },
  {
   "cell_type": "code",
   "execution_count": 16,
   "metadata": {},
   "outputs": [],
   "source": [
    "df = pd.read_csv(\"baseclient_ensemble.csv\")"
   ]
  },
  {
   "cell_type": "code",
   "execution_count": 17,
   "metadata": {},
   "outputs": [
    {
     "data": {
      "text/plain": [
       "(1067371, 8)"
      ]
     },
     "execution_count": 17,
     "metadata": {},
     "output_type": "execute_result"
    }
   ],
   "source": [
    "df.shape"
   ]
  },
  {
   "cell_type": "code",
   "execution_count": 10,
   "metadata": {},
   "outputs": [
    {
     "name": "stdout",
     "output_type": "stream",
     "text": [
      "<class 'pandas.core.frame.DataFrame'>\n",
      "RangeIndex: 1067371 entries, 0 to 1067370\n",
      "Data columns (total 8 columns):\n",
      " #   Column       Non-Null Count    Dtype  \n",
      "---  ------       --------------    -----  \n",
      " 0   Invoice      1067371 non-null  object \n",
      " 1   StockCode    1067371 non-null  object \n",
      " 2   Description  1062989 non-null  object \n",
      " 3   Quantity     1067371 non-null  int64  \n",
      " 4   InvoiceDate  1067371 non-null  object \n",
      " 5   Price        1067371 non-null  float64\n",
      " 6   Customer ID  824364 non-null   float64\n",
      " 7   Country      1067371 non-null  object \n",
      "dtypes: float64(2), int64(1), object(5)\n",
      "memory usage: 65.1+ MB\n"
     ]
    }
   ],
   "source": [
    "df.info()"
   ]
  },
  {
   "cell_type": "code",
   "execution_count": 24,
   "metadata": {},
   "outputs": [
    {
     "data": {
      "application/vnd.jupyter.widget-view+json": {
       "model_id": "8752084191e54add8a7a8789a5ab21d8",
       "version_major": 2,
       "version_minor": 0
      },
      "text/plain": [
       "Summarize dataset:   0%|          | 0/5 [00:00<?, ?it/s]"
      ]
     },
     "metadata": {},
     "output_type": "display_data"
    },
    {
     "data": {
      "application/vnd.jupyter.widget-view+json": {
       "model_id": "2ba3bb51fd92483fb8c21acd1e6c090e",
       "version_major": 2,
       "version_minor": 0
      },
      "text/plain": [
       "Generate report structure:   0%|          | 0/1 [00:00<?, ?it/s]"
      ]
     },
     "metadata": {},
     "output_type": "display_data"
    },
    {
     "data": {
      "application/vnd.jupyter.widget-view+json": {
       "model_id": "f911c11e983d4f908baed8ecda0b182b",
       "version_major": 2,
       "version_minor": 0
      },
      "text/plain": [
       "Render HTML:   0%|          | 0/1 [00:00<?, ?it/s]"
      ]
     },
     "metadata": {},
     "output_type": "display_data"
    }
   ],
   "source": [
    "import pandas as pd\n",
    "from ydata_profiling import ProfileReport\n",
    "\n",
    "# Charger les données dans un DataFrame pandas (exemple avec un fichier CSV)\n",
    "data = pd.read_csv('base_trie.csv')\n",
    "\n",
    "# Générer le profil des données\n",
    "profile = ProfileReport(data)\n",
    "\n",
    "# Générer le rapport au format HTML\n",
    "html_report = profile.to_html()\n",
    "\n",
    "# Enregistrer le rapport dans un fichier HTML\n",
    "with open(\"rapport.html\", \"w\") as file:\n",
    "    file.write(html_report)\n",
    "\n"
   ]
  },
  {
   "cell_type": "code",
   "execution_count": 22,
   "metadata": {},
   "outputs": [],
   "source": [
    "import pandas as pd\n",
    "\n",
    "# Charger les données dans un DataFrame pandas (exemple avec un fichier CSV)\n",
    "data = pd.read_csv('baseclient_ensemble.csv')\n",
    "\n",
    "# Supprimer les lignes en double dans le DataFrame\n",
    "data.drop_duplicates(inplace=True)\n",
    "data.dropna(subset=['Customer ID'], inplace=True)\n",
    "# Afficher le DataFrame mis à jour\n"
   ]
  },
  {
   "cell_type": "code",
   "execution_count": 23,
   "metadata": {},
   "outputs": [],
   "source": [
    "data.to_csv(\"base_trie.csv\",index=False)"
   ]
  },
  {
   "cell_type": "code",
   "execution_count": null,
   "metadata": {},
   "outputs": [],
   "source": []
  }
 ],
 "metadata": {
  "kernelspec": {
   "display_name": "ML-env",
   "language": "python",
   "name": "python3"
  },
  "language_info": {
   "codemirror_mode": {
    "name": "ipython",
    "version": 3
   },
   "file_extension": ".py",
   "mimetype": "text/x-python",
   "name": "python",
   "nbconvert_exporter": "python",
   "pygments_lexer": "ipython3",
   "version": "3.10.9 (main, Jan 11 2023, 15:21:40) [GCC 11.2.0]"
  },
  "orig_nbformat": 4,
  "vscode": {
   "interpreter": {
    "hash": "878092cf0169fc6951e1f6c32921b75f6c36905fe66a8d7b0fe42b541b9c8705"
   }
  }
 },
 "nbformat": 4,
 "nbformat_minor": 2
}
