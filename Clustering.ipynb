{
 "cells": [
  {
   "cell_type": "code",
   "execution_count": 61,
   "metadata": {},
   "outputs": [],
   "source": [
    "import pandas as pd\n",
    "from ydata_profiling import ProfileReport\n",
    "df = pd.read_csv(\"Feature_engin_treated.csv\")"
   ]
  },
  {
   "attachments": {},
   "cell_type": "markdown",
   "metadata": {},
   "source": [
    "### Rapport profiling des features enginered"
   ]
  },
  {
   "cell_type": "code",
   "execution_count": 62,
   "metadata": {},
   "outputs": [
    {
     "data": {
      "application/vnd.jupyter.widget-view+json": {
       "model_id": "8ae267104167460d8feeb06602318c73",
       "version_major": 2,
       "version_minor": 0
      },
      "text/plain": [
       "Summarize dataset:   0%|          | 0/5 [00:00<?, ?it/s]"
      ]
     },
     "metadata": {},
     "output_type": "display_data"
    },
    {
     "data": {
      "application/vnd.jupyter.widget-view+json": {
       "model_id": "0162bf8420314483bc6c06688ccc0cfd",
       "version_major": 2,
       "version_minor": 0
      },
      "text/plain": [
       "Generate report structure:   0%|          | 0/1 [00:00<?, ?it/s]"
      ]
     },
     "metadata": {},
     "output_type": "display_data"
    },
    {
     "data": {
      "application/vnd.jupyter.widget-view+json": {
       "model_id": "b8e66f9c892746b88041940039537aff",
       "version_major": 2,
       "version_minor": 0
      },
      "text/plain": [
       "Render HTML:   0%|          | 0/1 [00:00<?, ?it/s]"
      ]
     },
     "metadata": {},
     "output_type": "display_data"
    },
    {
     "data": {
      "application/vnd.jupyter.widget-view+json": {
       "model_id": "4abd3cee1f454ea392558a108aa16d16",
       "version_major": 2,
       "version_minor": 0
      },
      "text/plain": [
       "Export report to file:   0%|          | 0/1 [00:00<?, ?it/s]"
      ]
     },
     "metadata": {},
     "output_type": "display_data"
    }
   ],
   "source": [
    "\n",
    "# Charger le dataset\n",
    "df = pd.read_csv('Feature_engin_treated.csv')\n",
    "\n",
    "# Générer le rapport de profiling\n",
    "report = ProfileReport(df)\n",
    "\n",
    "# Sauvegarder le rapport au format HTML\n",
    "report.to_file('rapport_engin.html')\n"
   ]
  },
  {
   "cell_type": "code",
   "execution_count": 64,
   "metadata": {},
   "outputs": [
    {
     "data": {
      "text/plain": [
       "Customer ID        0\n",
       "AverageAmount      0\n",
       "TotalAmount        0\n",
       "TimeDiff         138\n",
       "R                  0\n",
       "F                  0\n",
       "M                  0\n",
       "RFM                0\n",
       "dtype: int64"
      ]
     },
     "execution_count": 64,
     "metadata": {},
     "output_type": "execute_result"
    }
   ],
   "source": [
    "df.head()"
   ]
  },
  {
   "cell_type": "code",
   "execution_count": 8,
   "metadata": {},
   "outputs": [
    {
     "name": "stdout",
     "output_type": "stream",
     "text": [
      "<class 'pandas.core.frame.DataFrame'>\n",
      "RangeIndex: 5942 entries, 0 to 5941\n",
      "Data columns (total 8 columns):\n",
      " #   Column         Non-Null Count  Dtype  \n",
      "---  ------         --------------  -----  \n",
      " 0   Customer ID    5942 non-null   float64\n",
      " 1   AverageAmount  5942 non-null   float64\n",
      " 2   TotalAmount    5942 non-null   float64\n",
      " 3   TimeDiff       5791 non-null   float64\n",
      " 4   R              5942 non-null   float64\n",
      " 5   F              5942 non-null   float64\n",
      " 6   M              5942 non-null   float64\n",
      " 7   RFM            5942 non-null   float64\n",
      "dtypes: float64(8)\n",
      "memory usage: 371.5 KB\n"
     ]
    }
   ],
   "source": [
    "df.info()"
   ]
  },
  {
   "attachments": {},
   "cell_type": "markdown",
   "metadata": {},
   "source": [
    "### Methode du coude"
   ]
  },
  {
   "cell_type": "code",
   "execution_count": 65,
   "metadata": {},
   "outputs": [
    {
     "data": {
      "text/plain": [
       "Customer ID      0\n",
       "AverageAmount    0\n",
       "TotalAmount      0\n",
       "TimeDiff         0\n",
       "R                0\n",
       "F                0\n",
       "M                0\n",
       "RFM              0\n",
       "dtype: int64"
      ]
     },
     "execution_count": 65,
     "metadata": {},
     "output_type": "execute_result"
    }
   ],
   "source": [
    "df_cleansed = df.dropna()\n",
    "df_cleansed.isna().sum()"
   ]
  },
  {
   "cell_type": "code",
   "execution_count": 66,
   "metadata": {},
   "outputs": [
    {
     "data": {
      "image/png": "[encoded data removed]",
      "text/plain": [
       "<Figure size 1000x600 with 1 Axes>"
      ]
     },
     "metadata": {},
     "output_type": "display_data"
    }
   ],
   "source": [
    "import pandas as pd\n",
    "import seaborn as sns\n",
    "import matplotlib.pyplot as plt\n",
    "from sklearn.cluster import KMeans\n",
    "\n",
    "%matplotlib inline\n",
    "\n",
    "columns = ['AverageAmount', 'TotalAmount', 'TimeDiff', 'R', 'F', 'M', 'RFM']\n",
    "data = df_cleansed[columns]\n",
    "\n",
    "inertias = []\n",
    "\n",
    "for k in range(1, 11):\n",
    "    kmeans = KMeans(n_clusters=k, random_state=42)\n",
    "    kmeans.fit(data)\n",
    "    inertias.append(kmeans.inertia_)\n",
    "\n",
    "plt.figure(figsize=(10, 6))\n",
    "sns.lineplot(x=range(1, 11), y=inertias, marker='o')\n",
    "plt.xlabel('Nombre de clusters')\n",
    "plt.ylabel('Inertie')\n",
    "plt.title('Méthode du coude')\n",
    "plt.show()\n"
   ]
  },
  {
   "attachments": {},
   "cell_type": "markdown",
   "metadata": {},
   "source": [
    "### Clustering"
   ]
  },
  {
   "cell_type": "code",
   "execution_count": 67,
   "metadata": {},
   "outputs": [
    {
     "data": {
      "text/plain": [
       "Customer ID      0\n",
       "AverageAmount    0\n",
       "TotalAmount      0\n",
       "TimeDiff         0\n",
       "R                0\n",
       "F                0\n",
       "M                0\n",
       "RFM              0\n",
       "dtype: int64"
      ]
     },
     "execution_count": 67,
     "metadata": {},
     "output_type": "execute_result"
    }
   ],
   "source": [
    "df_cleansed = df.dropna()\n",
    "df_cleansed.isna().sum()"
   ]
  },
  {
   "cell_type": "code",
   "execution_count": 4,
   "metadata": {},
   "outputs": [
    {
     "name": "stdout",
     "output_type": "stream",
     "text": [
      "<class 'pandas.core.frame.DataFrame'>\n",
      "Int64Index: 5791 entries, 0 to 5941\n",
      "Data columns (total 8 columns):\n",
      " #   Column         Non-Null Count  Dtype  \n",
      "---  ------         --------------  -----  \n",
      " 0   Customer ID    5791 non-null   float64\n",
      " 1   AverageAmount  5791 non-null   float64\n",
      " 2   TotalAmount    5791 non-null   float64\n",
      " 3   TimeDiff       5791 non-null   float64\n",
      " 4   R              5791 non-null   float64\n",
      " 5   F              5791 non-null   float64\n",
      " 6   M              5791 non-null   float64\n",
      " 7   RFM            5791 non-null   float64\n",
      "dtypes: float64(8)\n",
      "memory usage: 407.2 KB\n"
     ]
    }
   ],
   "source": [
    "df_cleansed.info()"
   ]
  },
  {
   "cell_type": "code",
   "execution_count": 108,
   "metadata": {},
   "outputs": [
    {
     "data": {
      "text/plain": [
       "(5272, 9)"
      ]
     },
     "execution_count": 108,
     "metadata": {},
     "output_type": "execute_result"
    }
   ],
   "source": [
    "df_cleansed.shape"
   ]
  },
  {
   "cell_type": "code",
   "execution_count": 109,
   "metadata": {},
   "outputs": [
    {
     "name": "stderr",
     "output_type": "stream",
     "text": [
      "/tmp/ipykernel_9801/2458600017.py:23: SettingWithCopyWarning: \n",
      "A value is trying to be set on a copy of a slice from a DataFrame.\n",
      "Try using .loc[row_indexer,col_indexer] = value instead\n",
      "\n",
      "See the caveats in the documentation: https://pandas.pydata.org/pandas-docs/stable/user_guide/indexing.html#returning-a-view-versus-a-copy\n",
      "  df_cleansed['Cluster'] = labels\n"
     ]
    }
   ],
   "source": [
    "import pandas as pd\n",
    "from sklearn.pipeline import make_pipeline\n",
    "from sklearn.preprocessing import StandardScaler\n",
    "from sklearn.cluster import KMeans\n",
    "\n",
    "# Charger le dataset\n",
    "\n",
    "\n",
    "# Sélectionner les colonnes à utiliser pour le clustering\n",
    "columns = ['AverageAmount', 'TotalAmount', 'TimeDiff', 'R', 'F', 'M', 'RFM']\n",
    "data = df_cleansed[columns]\n",
    "\n",
    "# Créer le pipeline de standardisation et clustering\n",
    "pipeline = make_pipeline(StandardScaler(), KMeans(n_clusters=4, max_iter=100,random_state=42))\n",
    "\n",
    "# Effectuer le clustering\n",
    "pipeline.fit(data)\n",
    "\n",
    "# Obtenir les labels de cluster pour chaque échantillon\n",
    "labels = pipeline.predict(data)\n",
    "\n",
    "# Ajouter les labels de cluster au DataFrame\n",
    "df_cleansed['Cluster'] = labels\n",
    "\n",
    "# Afficher le DataFrame avec les labels de cluster\n",
    "# print(df_cleansed.head())\n",
    "\n",
    "\n",
    "\n"
   ]
  },
  {
   "cell_type": "code",
   "execution_count": 110,
   "metadata": {},
   "outputs": [
    {
     "data": {
      "image/png": "[encoded data removed]",
      "text/plain": [
       "<Figure size 640x480 with 1 Axes>"
      ]
     },
     "metadata": {},
     "output_type": "display_data"
    }
   ],
   "source": [
    "from sklearn.decomposition import PCA\n",
    "\n",
    "pca = PCA(n_components=2)\n",
    "data_pca = pca.fit_transform(data)\n",
    "\n",
    "plt.scatter(data_pca[:, 0], data_pca[:, 1], c=labels)\n",
    "plt.xlabel('PC1')\n",
    "plt.ylabel('PC2')\n",
    "plt.title('Clustering Results (PCA)')\n",
    "plt.show()\n"
   ]
  },
  {
   "cell_type": "code",
   "execution_count": 111,
   "metadata": {},
   "outputs": [
    {
     "name": "stdout",
     "output_type": "stream",
     "text": [
      "<class 'pandas.core.frame.DataFrame'>\n",
      "Int64Index: 5272 entries, 0 to 5409\n",
      "Data columns (total 9 columns):\n",
      " #   Column         Non-Null Count  Dtype  \n",
      "---  ------         --------------  -----  \n",
      " 0   Customer ID    5272 non-null   float64\n",
      " 1   AverageAmount  5272 non-null   float64\n",
      " 2   TotalAmount    5272 non-null   float64\n",
      " 3   TimeDiff       5272 non-null   float64\n",
      " 4   R              5272 non-null   float64\n",
      " 5   F              5272 non-null   float64\n",
      " 6   M              5272 non-null   float64\n",
      " 7   RFM            5272 non-null   float64\n",
      " 8   Cluster        5272 non-null   int32  \n",
      "dtypes: float64(8), int32(1)\n",
      "memory usage: 391.3 KB\n"
     ]
    }
   ],
   "source": [
    "df_cleansed.info()"
   ]
  },
  {
   "cell_type": "code",
   "execution_count": 112,
   "metadata": {},
   "outputs": [
    {
     "name": "stderr",
     "output_type": "stream",
     "text": [
      "/tmp/ipykernel_9801/3516478257.py:29: SettingWithCopyWarning: \n",
      "A value is trying to be set on a copy of a slice from a DataFrame.\n",
      "Try using .loc[row_indexer,col_indexer] = value instead\n",
      "\n",
      "See the caveats in the documentation: https://pandas.pydata.org/pandas-docs/stable/user_guide/indexing.html#returning-a-view-versus-a-copy\n",
      "  df['Cluster'] = labels\n"
     ]
    },
    {
     "data": {
      "image/png": "[encoded data removed]",
      "text/plain": [
       "<Figure size 640x480 with 1 Axes>"
      ]
     },
     "metadata": {},
     "output_type": "display_data"
    }
   ],
   "source": [
    "import pandas as pd\n",
    "import matplotlib.pyplot as plt\n",
    "from sklearn.cluster import KMeans\n",
    "from sklearn.preprocessing import StandardScaler\n",
    "\n",
    "# Charger le dataset\n",
    "df = df_cleansed\n",
    "\n",
    "# Sélectionner les colonnes à utiliser pour le clustering (R, F, M)\n",
    "X = df[['TotalAmount','R', 'F', 'M']]\n",
    "\n",
    "# Appliquer la transformation de mise à l'échelle avec StandardScaler\n",
    "scaler = StandardScaler()\n",
    "X_scaled = scaler.fit_transform(X)\n",
    "\n",
    "# Définir le nombre de clusters\n",
    "num_clusters = 3\n",
    "\n",
    "# Créer une instance du modèle K-means avec une initialisation K-means++\n",
    "kmeans = KMeans(n_clusters=num_clusters, init='k-means++', random_state=42)\n",
    "\n",
    "# Effectuer le clustering\n",
    "kmeans.fit(X_scaled)\n",
    "\n",
    "# Obtenir les labels de clusters assignés à chaque échantillon\n",
    "labels = kmeans.labels_\n",
    "\n",
    "# Ajouter les labels de clusters au DataFrame\n",
    "df['Cluster'] = labels\n",
    "\n",
    "# Visualiser les clusters en utilisant un diagramme en nuage de points\n",
    "plt.scatter(df['TotalAmount'], df['TimeDiff'], c=df['Cluster'], cmap='viridis')\n",
    "plt.xlabel('TotalAmount')\n",
    "plt.ylabel('TimeDiff')\n",
    "plt.title('Clustering avec K-means')\n",
    "plt.xscale('log')\n",
    "plt.yscale('log')\n",
    "plt.show()\n",
    "\n",
    "# reduction de dimensions sur une ACP"
   ]
  },
  {
   "cell_type": "code",
   "execution_count": 113,
   "metadata": {},
   "outputs": [
    {
     "data": {
      "text/html": [
       "<div>\n",
       "<style scoped>\n",
       "    .dataframe tbody tr th:only-of-type {\n",
       "        vertical-align: middle;\n",
       "    }\n",
       "\n",
       "    .dataframe tbody tr th {\n",
       "        vertical-align: top;\n",
       "    }\n",
       "\n",
       "    .dataframe thead th {\n",
       "        text-align: right;\n",
       "    }\n",
       "</style>\n",
       "<table border=\"1\" class=\"dataframe\">\n",
       "  <thead>\n",
       "    <tr style=\"text-align: right;\">\n",
       "      <th></th>\n",
       "      <th>Customer ID</th>\n",
       "      <th>AverageAmount</th>\n",
       "      <th>TotalAmount</th>\n",
       "      <th>TimeDiff</th>\n",
       "      <th>R</th>\n",
       "      <th>F</th>\n",
       "      <th>M</th>\n",
       "      <th>RFM</th>\n",
       "    </tr>\n",
       "    <tr>\n",
       "      <th>Cluster</th>\n",
       "      <th></th>\n",
       "      <th></th>\n",
       "      <th></th>\n",
       "      <th></th>\n",
       "      <th></th>\n",
       "      <th></th>\n",
       "      <th></th>\n",
       "      <th></th>\n",
       "    </tr>\n",
       "  </thead>\n",
       "  <tbody>\n",
       "    <tr>\n",
       "      <th>0</th>\n",
       "      <td>15576.951574</td>\n",
       "      <td>24.513092</td>\n",
       "      <td>917.105152</td>\n",
       "      <td>6.248874</td>\n",
       "      <td>1.512591</td>\n",
       "      <td>3.859806</td>\n",
       "      <td>3.908232</td>\n",
       "      <td>193.765375</td>\n",
       "    </tr>\n",
       "    <tr>\n",
       "      <th>1</th>\n",
       "      <td>15504.798060</td>\n",
       "      <td>18.780510</td>\n",
       "      <td>7125.496162</td>\n",
       "      <td>2.512806</td>\n",
       "      <td>2.747795</td>\n",
       "      <td>2.315697</td>\n",
       "      <td>2.483245</td>\n",
       "      <td>300.419753</td>\n",
       "    </tr>\n",
       "    <tr>\n",
       "      <th>2</th>\n",
       "      <td>15862.750000</td>\n",
       "      <td>206.401317</td>\n",
       "      <td>206047.556250</td>\n",
       "      <td>0.550595</td>\n",
       "      <td>3.875000</td>\n",
       "      <td>1.000000</td>\n",
       "      <td>1.250000</td>\n",
       "      <td>398.750000</td>\n",
       "    </tr>\n",
       "  </tbody>\n",
       "</table>\n",
       "</div>"
      ],
      "text/plain": [
       "          Customer ID  AverageAmount    TotalAmount  TimeDiff         R  \\\n",
       "Cluster                                                                   \n",
       "0        15576.951574      24.513092     917.105152  6.248874  1.512591   \n",
       "1        15504.798060      18.780510    7125.496162  2.512806  2.747795   \n",
       "2        15862.750000     206.401317  206047.556250  0.550595  3.875000   \n",
       "\n",
       "                F         M         RFM  \n",
       "Cluster                                  \n",
       "0        3.859806  3.908232  193.765375  \n",
       "1        2.315697  2.483245  300.419753  \n",
       "2        1.000000  1.250000  398.750000  "
      ]
     },
     "execution_count": 113,
     "metadata": {},
     "output_type": "execute_result"
    }
   ],
   "source": [
    "\n",
    "\n",
    "# Effectuer un groupby sur la colonne \"Cluster\"\n",
    "df_grouped = df.groupby('Cluster').mean()\n",
    "\n",
    "# Afficher le DataFrame résultant\n",
    "df_grouped.head()\n"
   ]
  },
  {
   "cell_type": "code",
   "execution_count": 115,
   "metadata": {},
   "outputs": [
    {
     "data": {
      "text/html": [
       "<div>\n",
       "<style scoped>\n",
       "    .dataframe tbody tr th:only-of-type {\n",
       "        vertical-align: middle;\n",
       "    }\n",
       "\n",
       "    .dataframe tbody tr th {\n",
       "        vertical-align: top;\n",
       "    }\n",
       "\n",
       "    .dataframe thead th {\n",
       "        text-align: right;\n",
       "    }\n",
       "</style>\n",
       "<table border=\"1\" class=\"dataframe\">\n",
       "  <thead>\n",
       "    <tr style=\"text-align: right;\">\n",
       "      <th></th>\n",
       "      <th>PC1</th>\n",
       "      <th>PC2</th>\n",
       "    </tr>\n",
       "  </thead>\n",
       "  <tbody>\n",
       "    <tr>\n",
       "      <th>0</th>\n",
       "      <td>1.111173</td>\n",
       "      <td>0.006524</td>\n",
       "    </tr>\n",
       "    <tr>\n",
       "      <th>1</th>\n",
       "      <td>-1.042717</td>\n",
       "      <td>-0.442633</td>\n",
       "    </tr>\n",
       "    <tr>\n",
       "      <th>2</th>\n",
       "      <td>-1.050934</td>\n",
       "      <td>-0.212018</td>\n",
       "    </tr>\n",
       "    <tr>\n",
       "      <th>3</th>\n",
       "      <td>-1.097987</td>\n",
       "      <td>0.145468</td>\n",
       "    </tr>\n",
       "    <tr>\n",
       "      <th>4</th>\n",
       "      <td>4.242237</td>\n",
       "      <td>0.252113</td>\n",
       "    </tr>\n",
       "  </tbody>\n",
       "</table>\n",
       "</div>"
      ],
      "text/plain": [
       "        PC1       PC2\n",
       "0  1.111173  0.006524\n",
       "1 -1.042717 -0.442633\n",
       "2 -1.050934 -0.212018\n",
       "3 -1.097987  0.145468\n",
       "4  4.242237  0.252113"
      ]
     },
     "execution_count": 115,
     "metadata": {},
     "output_type": "execute_result"
    }
   ],
   "source": [
    "import pandas as pd\n",
    "from sklearn.preprocessing import StandardScaler\n",
    "from sklearn.decomposition import PCA\n",
    "\n",
    "\n",
    "\n",
    "df_pca = df_cleansed\n",
    "# Sélectionner les colonnes pertinentes pour l'ACP\n",
    "features = ['TotalAmount', 'TimeDiff','R','F','M']\n",
    "\n",
    "# Standardisation des données\n",
    "scaler = StandardScaler()\n",
    "df_scaled = scaler.fit_transform(df_pca[features])\n",
    "\n",
    "# Création de la matrice de corrélation\n",
    "corr_matrix = pd.DataFrame(df_scaled, columns=features).corr()\n",
    "\n",
    "# Calcul des composantes principales\n",
    "pca = PCA(n_components=2)\n",
    "principal_components = pca.fit_transform(df_scaled)\n",
    "\n",
    "# Créer un DataFrame pour stocker les résultats de l'ACP\n",
    "df_test = pd.DataFrame(data=principal_components, columns=['PC1', 'PC2'])\n",
    "\n",
    "# Afficher les premières lignes du DataFrame résultant\n",
    "df_test.head()\n"
   ]
  },
  {
   "cell_type": "code",
   "execution_count": 120,
   "metadata": {},
   "outputs": [
    {
     "data": {
      "image/png": "[encoded data removed]",
      "text/plain": [
       "<Figure size 640x480 with 1 Axes>"
      ]
     },
     "metadata": {},
     "output_type": "display_data"
    }
   ],
   "source": [
    "import pandas as pd\n",
    "import matplotlib.pyplot as plt\n",
    "from sklearn.cluster import KMeans\n",
    "from sklearn.preprocessing import StandardScaler\n",
    "\n",
    "# Charger le dataset\n",
    "df = df_test\n",
    "\n",
    "# Sélectionner les colonnes à utiliser pour le clustering (R, F, M)\n",
    "X = df[['PC1','PC2']]\n",
    "\n",
    "# Appliquer la transformation de mise à l'échelle avec StandardScaler\n",
    "scaler = StandardScaler()\n",
    "X_scaled = scaler.fit_transform(X)\n",
    "\n",
    "# Définir le nombre de clusters\n",
    "num_clusters = 3\n",
    "\n",
    "# Créer une instance du modèle K-means avec une initialisation K-means++\n",
    "kmeans = KMeans(n_clusters=num_clusters, init='k-means++', random_state=42)\n",
    "\n",
    "# Effectuer le clustering\n",
    "kmeans.fit(X_scaled)\n",
    "\n",
    "# Obtenir les labels de clusters assignés à chaque échantillon\n",
    "labels = kmeans.labels_\n",
    "\n",
    "# Ajouter les labels de clusters au DataFrame\n",
    "df['Cluster'] = labels\n",
    "\n",
    "# Visualiser les clusters en utilisant un diagramme en nuage de points\n",
    "plt.scatter(df['PC1'], df['PC2'], c=df['Cluster'], cmap='viridis')\n",
    "plt.xlabel('PC1')\n",
    "plt.ylabel('PC2')\n",
    "plt.title('Clustering avec K-means')\n",
    "# plt.xscale('log')\n",
    "# plt.yscale('log')\n",
    "plt.show()"
   ]
  },
  {
   "cell_type": "code",
   "execution_count": 119,
   "metadata": {},
   "outputs": [
    {
     "name": "stdout",
     "output_type": "stream",
     "text": [
      "<class 'pandas.core.frame.DataFrame'>\n",
      "Int64Index: 5272 entries, 0 to 5409\n",
      "Data columns (total 9 columns):\n",
      " #   Column         Non-Null Count  Dtype  \n",
      "---  ------         --------------  -----  \n",
      " 0   Customer ID    5272 non-null   float64\n",
      " 1   AverageAmount  5272 non-null   float64\n",
      " 2   TotalAmount    5272 non-null   float64\n",
      " 3   TimeDiff       5272 non-null   float64\n",
      " 4   R              5272 non-null   float64\n",
      " 5   F              5272 non-null   float64\n",
      " 6   M              5272 non-null   float64\n",
      " 7   RFM            5272 non-null   float64\n",
      " 8   Cluster        5272 non-null   int32  \n",
      "dtypes: float64(8), int32(1)\n",
      "memory usage: 391.3 KB\n"
     ]
    }
   ],
   "source": [
    "df_cleansed.info()"
   ]
  },
  {
   "cell_type": "code",
   "execution_count": null,
   "metadata": {},
   "outputs": [],
   "source": []
  }
 ],
 "metadata": {
  "kernelspec": {
   "display_name": "ML-env",
   "language": "python",
   "name": "python3"
  },
  "language_info": {
   "codemirror_mode": {
    "name": "ipython",
    "version": 3
   },
   "file_extension": ".py",
   "mimetype": "text/x-python",
   "name": "python",
   "nbconvert_exporter": "python",
   "pygments_lexer": "ipython3",
   "version": "3.10.9"
  },
  "orig_nbformat": 4,
  "vscode": {
   "interpreter": {
    "hash": "878092cf0169fc6951e1f6c32921b75f6c36905fe66a8d7b0fe42b541b9c8705"
   }
  }
 },
 "nbformat": 4,
 "nbformat_minor": 2
}
