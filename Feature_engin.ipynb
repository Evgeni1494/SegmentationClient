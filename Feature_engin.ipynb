{
 "cells": [
  {
   "cell_type": "code",
   "execution_count": 5,
   "metadata": {},
   "outputs": [],
   "source": [
    "import pandas as pd\n",
    "from ydata_profiling import ProfileReport\n",
    "df = pd.read_csv(\"engin_test.csv\")"
   ]
  },
  {
   "cell_type": "code",
   "execution_count": 6,
   "metadata": {},
   "outputs": [
    {
     "data": {
      "text/html": [
       "<div>\n",
       "<style scoped>\n",
       "    .dataframe tbody tr th:only-of-type {\n",
       "        vertical-align: middle;\n",
       "    }\n",
       "\n",
       "    .dataframe tbody tr th {\n",
       "        vertical-align: top;\n",
       "    }\n",
       "\n",
       "    .dataframe thead th {\n",
       "        text-align: right;\n",
       "    }\n",
       "</style>\n",
       "<table border=\"1\" class=\"dataframe\">\n",
       "  <thead>\n",
       "    <tr style=\"text-align: right;\">\n",
       "      <th></th>\n",
       "      <th>Invoice</th>\n",
       "      <th>StockCode</th>\n",
       "      <th>Description</th>\n",
       "      <th>Quantity</th>\n",
       "      <th>InvoiceDate</th>\n",
       "      <th>Price</th>\n",
       "      <th>Customer ID</th>\n",
       "      <th>Country</th>\n",
       "      <th>Recency</th>\n",
       "      <th>Frequency</th>\n",
       "      <th>Monetary</th>\n",
       "      <th>R</th>\n",
       "      <th>F</th>\n",
       "      <th>M</th>\n",
       "    </tr>\n",
       "  </thead>\n",
       "  <tbody>\n",
       "    <tr>\n",
       "      <th>0</th>\n",
       "      <td>489434</td>\n",
       "      <td>85048</td>\n",
       "      <td>15CM CHRISTMAS GLASS BALL 20 LIGHTS</td>\n",
       "      <td>12</td>\n",
       "      <td>2009-12-01 07:45:00</td>\n",
       "      <td>6.95</td>\n",
       "      <td>13085.0</td>\n",
       "      <td>United Kingdom</td>\n",
       "      <td>157</td>\n",
       "      <td>10</td>\n",
       "      <td>1142.05</td>\n",
       "      <td>4</td>\n",
       "      <td>2</td>\n",
       "      <td>3</td>\n",
       "    </tr>\n",
       "    <tr>\n",
       "      <th>1</th>\n",
       "      <td>489434</td>\n",
       "      <td>79323P</td>\n",
       "      <td>PINK CHERRY LIGHTS</td>\n",
       "      <td>12</td>\n",
       "      <td>2009-12-01 07:45:00</td>\n",
       "      <td>6.75</td>\n",
       "      <td>13085.0</td>\n",
       "      <td>United Kingdom</td>\n",
       "      <td>157</td>\n",
       "      <td>10</td>\n",
       "      <td>1142.05</td>\n",
       "      <td>4</td>\n",
       "      <td>2</td>\n",
       "      <td>3</td>\n",
       "    </tr>\n",
       "    <tr>\n",
       "      <th>2</th>\n",
       "      <td>489434</td>\n",
       "      <td>79323W</td>\n",
       "      <td>WHITE CHERRY LIGHTS</td>\n",
       "      <td>12</td>\n",
       "      <td>2009-12-01 07:45:00</td>\n",
       "      <td>6.75</td>\n",
       "      <td>13085.0</td>\n",
       "      <td>United Kingdom</td>\n",
       "      <td>157</td>\n",
       "      <td>10</td>\n",
       "      <td>1142.05</td>\n",
       "      <td>4</td>\n",
       "      <td>2</td>\n",
       "      <td>3</td>\n",
       "    </tr>\n",
       "    <tr>\n",
       "      <th>3</th>\n",
       "      <td>489434</td>\n",
       "      <td>22041</td>\n",
       "      <td>RECORD FRAME 7\" SINGLE SIZE</td>\n",
       "      <td>48</td>\n",
       "      <td>2009-12-01 07:45:00</td>\n",
       "      <td>2.10</td>\n",
       "      <td>13085.0</td>\n",
       "      <td>United Kingdom</td>\n",
       "      <td>157</td>\n",
       "      <td>10</td>\n",
       "      <td>1142.05</td>\n",
       "      <td>4</td>\n",
       "      <td>2</td>\n",
       "      <td>3</td>\n",
       "    </tr>\n",
       "    <tr>\n",
       "      <th>4</th>\n",
       "      <td>489434</td>\n",
       "      <td>21232</td>\n",
       "      <td>STRAWBERRY CERAMIC TRINKET BOX</td>\n",
       "      <td>24</td>\n",
       "      <td>2009-12-01 07:45:00</td>\n",
       "      <td>1.25</td>\n",
       "      <td>13085.0</td>\n",
       "      <td>United Kingdom</td>\n",
       "      <td>157</td>\n",
       "      <td>10</td>\n",
       "      <td>1142.05</td>\n",
       "      <td>4</td>\n",
       "      <td>2</td>\n",
       "      <td>3</td>\n",
       "    </tr>\n",
       "  </tbody>\n",
       "</table>\n",
       "</div>"
      ],
      "text/plain": [
       "  Invoice StockCode                          Description  Quantity  \\\n",
       "0  489434     85048  15CM CHRISTMAS GLASS BALL 20 LIGHTS        12   \n",
       "1  489434    79323P                   PINK CHERRY LIGHTS        12   \n",
       "2  489434    79323W                  WHITE CHERRY LIGHTS        12   \n",
       "3  489434     22041         RECORD FRAME 7\" SINGLE SIZE         48   \n",
       "4  489434     21232       STRAWBERRY CERAMIC TRINKET BOX        24   \n",
       "\n",
       "           InvoiceDate  Price  Customer ID         Country  Recency  \\\n",
       "0  2009-12-01 07:45:00   6.95      13085.0  United Kingdom      157   \n",
       "1  2009-12-01 07:45:00   6.75      13085.0  United Kingdom      157   \n",
       "2  2009-12-01 07:45:00   6.75      13085.0  United Kingdom      157   \n",
       "3  2009-12-01 07:45:00   2.10      13085.0  United Kingdom      157   \n",
       "4  2009-12-01 07:45:00   1.25      13085.0  United Kingdom      157   \n",
       "\n",
       "   Frequency  Monetary  R  F  M  \n",
       "0         10   1142.05  4  2  3  \n",
       "1         10   1142.05  4  2  3  \n",
       "2         10   1142.05  4  2  3  \n",
       "3         10   1142.05  4  2  3  \n",
       "4         10   1142.05  4  2  3  "
      ]
     },
     "execution_count": 6,
     "metadata": {},
     "output_type": "execute_result"
    }
   ],
   "source": [
    "df.head()"
   ]
  },
  {
   "cell_type": "code",
   "execution_count": 7,
   "metadata": {},
   "outputs": [
    {
     "name": "stdout",
     "output_type": "stream",
     "text": [
      "<class 'pandas.core.frame.DataFrame'>\n",
      "RangeIndex: 797885 entries, 0 to 797884\n",
      "Data columns (total 14 columns):\n",
      " #   Column       Non-Null Count   Dtype  \n",
      "---  ------       --------------   -----  \n",
      " 0   Invoice      797885 non-null  object \n",
      " 1   StockCode    797885 non-null  object \n",
      " 2   Description  797885 non-null  object \n",
      " 3   Quantity     797885 non-null  int64  \n",
      " 4   InvoiceDate  797885 non-null  object \n",
      " 5   Price        797885 non-null  float64\n",
      " 6   Customer ID  797885 non-null  float64\n",
      " 7   Country      797885 non-null  object \n",
      " 8   Recency      797885 non-null  int64  \n",
      " 9   Frequency    797885 non-null  int64  \n",
      " 10  Monetary     797885 non-null  float64\n",
      " 11  R            797885 non-null  int64  \n",
      " 12  F            797885 non-null  int64  \n",
      " 13  M            797885 non-null  int64  \n",
      "dtypes: float64(3), int64(6), object(5)\n",
      "memory usage: 85.2+ MB\n"
     ]
    }
   ],
   "source": [
    "df.info()"
   ]
  },
  {
   "attachments": {},
   "cell_type": "markdown",
   "metadata": {},
   "source": [
    "### Laisser que UK"
   ]
  },
  {
   "cell_type": "code",
   "execution_count": 8,
   "metadata": {},
   "outputs": [
    {
     "data": {
      "text/html": [
       "<div>\n",
       "<style scoped>\n",
       "    .dataframe tbody tr th:only-of-type {\n",
       "        vertical-align: middle;\n",
       "    }\n",
       "\n",
       "    .dataframe tbody tr th {\n",
       "        vertical-align: top;\n",
       "    }\n",
       "\n",
       "    .dataframe thead th {\n",
       "        text-align: right;\n",
       "    }\n",
       "</style>\n",
       "<table border=\"1\" class=\"dataframe\">\n",
       "  <thead>\n",
       "    <tr style=\"text-align: right;\">\n",
       "      <th></th>\n",
       "      <th>Invoice</th>\n",
       "      <th>StockCode</th>\n",
       "      <th>Description</th>\n",
       "      <th>Quantity</th>\n",
       "      <th>InvoiceDate</th>\n",
       "      <th>Price</th>\n",
       "      <th>Customer ID</th>\n",
       "      <th>Country</th>\n",
       "      <th>Recency</th>\n",
       "      <th>Frequency</th>\n",
       "      <th>Monetary</th>\n",
       "      <th>R</th>\n",
       "      <th>F</th>\n",
       "      <th>M</th>\n",
       "    </tr>\n",
       "  </thead>\n",
       "  <tbody>\n",
       "    <tr>\n",
       "      <th>0</th>\n",
       "      <td>489434</td>\n",
       "      <td>85048</td>\n",
       "      <td>15CM CHRISTMAS GLASS BALL 20 LIGHTS</td>\n",
       "      <td>12</td>\n",
       "      <td>2009-12-01 07:45:00</td>\n",
       "      <td>6.95</td>\n",
       "      <td>13085.0</td>\n",
       "      <td>United Kingdom</td>\n",
       "      <td>157</td>\n",
       "      <td>10</td>\n",
       "      <td>1142.05</td>\n",
       "      <td>4</td>\n",
       "      <td>2</td>\n",
       "      <td>3</td>\n",
       "    </tr>\n",
       "    <tr>\n",
       "      <th>1</th>\n",
       "      <td>489434</td>\n",
       "      <td>79323P</td>\n",
       "      <td>PINK CHERRY LIGHTS</td>\n",
       "      <td>12</td>\n",
       "      <td>2009-12-01 07:45:00</td>\n",
       "      <td>6.75</td>\n",
       "      <td>13085.0</td>\n",
       "      <td>United Kingdom</td>\n",
       "      <td>157</td>\n",
       "      <td>10</td>\n",
       "      <td>1142.05</td>\n",
       "      <td>4</td>\n",
       "      <td>2</td>\n",
       "      <td>3</td>\n",
       "    </tr>\n",
       "    <tr>\n",
       "      <th>2</th>\n",
       "      <td>489434</td>\n",
       "      <td>79323W</td>\n",
       "      <td>WHITE CHERRY LIGHTS</td>\n",
       "      <td>12</td>\n",
       "      <td>2009-12-01 07:45:00</td>\n",
       "      <td>6.75</td>\n",
       "      <td>13085.0</td>\n",
       "      <td>United Kingdom</td>\n",
       "      <td>157</td>\n",
       "      <td>10</td>\n",
       "      <td>1142.05</td>\n",
       "      <td>4</td>\n",
       "      <td>2</td>\n",
       "      <td>3</td>\n",
       "    </tr>\n",
       "    <tr>\n",
       "      <th>3</th>\n",
       "      <td>489434</td>\n",
       "      <td>22041</td>\n",
       "      <td>RECORD FRAME 7\" SINGLE SIZE</td>\n",
       "      <td>48</td>\n",
       "      <td>2009-12-01 07:45:00</td>\n",
       "      <td>2.10</td>\n",
       "      <td>13085.0</td>\n",
       "      <td>United Kingdom</td>\n",
       "      <td>157</td>\n",
       "      <td>10</td>\n",
       "      <td>1142.05</td>\n",
       "      <td>4</td>\n",
       "      <td>2</td>\n",
       "      <td>3</td>\n",
       "    </tr>\n",
       "    <tr>\n",
       "      <th>4</th>\n",
       "      <td>489434</td>\n",
       "      <td>21232</td>\n",
       "      <td>STRAWBERRY CERAMIC TRINKET BOX</td>\n",
       "      <td>24</td>\n",
       "      <td>2009-12-01 07:45:00</td>\n",
       "      <td>1.25</td>\n",
       "      <td>13085.0</td>\n",
       "      <td>United Kingdom</td>\n",
       "      <td>157</td>\n",
       "      <td>10</td>\n",
       "      <td>1142.05</td>\n",
       "      <td>4</td>\n",
       "      <td>2</td>\n",
       "      <td>3</td>\n",
       "    </tr>\n",
       "  </tbody>\n",
       "</table>\n",
       "</div>"
      ],
      "text/plain": [
       "  Invoice StockCode                          Description  Quantity  \\\n",
       "0  489434     85048  15CM CHRISTMAS GLASS BALL 20 LIGHTS        12   \n",
       "1  489434    79323P                   PINK CHERRY LIGHTS        12   \n",
       "2  489434    79323W                  WHITE CHERRY LIGHTS        12   \n",
       "3  489434     22041         RECORD FRAME 7\" SINGLE SIZE         48   \n",
       "4  489434     21232       STRAWBERRY CERAMIC TRINKET BOX        24   \n",
       "\n",
       "           InvoiceDate  Price  Customer ID         Country  Recency  \\\n",
       "0  2009-12-01 07:45:00   6.95      13085.0  United Kingdom      157   \n",
       "1  2009-12-01 07:45:00   6.75      13085.0  United Kingdom      157   \n",
       "2  2009-12-01 07:45:00   6.75      13085.0  United Kingdom      157   \n",
       "3  2009-12-01 07:45:00   2.10      13085.0  United Kingdom      157   \n",
       "4  2009-12-01 07:45:00   1.25      13085.0  United Kingdom      157   \n",
       "\n",
       "   Frequency  Monetary  R  F  M  \n",
       "0         10   1142.05  4  2  3  \n",
       "1         10   1142.05  4  2  3  \n",
       "2         10   1142.05  4  2  3  \n",
       "3         10   1142.05  4  2  3  \n",
       "4         10   1142.05  4  2  3  "
      ]
     },
     "execution_count": 8,
     "metadata": {},
     "output_type": "execute_result"
    }
   ],
   "source": [
    "# Supprimer les lignes où la valeur de \"Country\" n'est pas \"United Kingdom\"\n",
    "df = df[df['Country'] == 'United Kingdom']\n",
    "\n",
    "# Afficher le DataFrame résultant\n",
    "\n",
    "df.head()"
   ]
  },
  {
   "attachments": {},
   "cell_type": "markdown",
   "metadata": {},
   "source": [
    "## Engin Featuring."
   ]
  },
  {
   "attachments": {},
   "cell_type": "markdown",
   "metadata": {},
   "source": [
    "### Time Diff"
   ]
  },
  {
   "cell_type": "code",
   "execution_count": 9,
   "metadata": {},
   "outputs": [
    {
     "name": "stdout",
     "output_type": "stream",
     "text": [
      "   Customer ID   TimeDiff\n",
      "0      12346.0   8.543478\n",
      "1      12608.0   0.000000\n",
      "2      12745.0   4.142857\n",
      "3      12746.0  10.631579\n",
      "4      12747.0   2.816406\n"
     ]
    }
   ],
   "source": [
    "import pandas as pd\n",
    "\n",
    "# Charger le dataset\n",
    "\n",
    "\n",
    "# Convertir la colonne \"InvoiceDate\" en type de données datetime\n",
    "df['InvoiceDate'] = pd.to_datetime(df['InvoiceDate'])\n",
    "\n",
    "# Trier le DataFrame par client et date\n",
    "df_sorted = df.sort_values(by=['Customer ID', 'InvoiceDate'])\n",
    "\n",
    "# Calculer la différence de jours entre les achats pour chaque client\n",
    "df_sorted['TimeDiff'] = df_sorted.groupby('Customer ID')['InvoiceDate'].diff().dt.days\n",
    "\n",
    "# Calculer la fréquence d'achat (nombre moyen de jours entre les achats) pour chaque client\n",
    "df_frequency = df_sorted.groupby('Customer ID')['TimeDiff'].mean().reset_index()\n",
    "\n",
    "# Afficher les premières lignes du résultat\n",
    "print(df_frequency.head())\n"
   ]
  },
  {
   "cell_type": "code",
   "execution_count": 10,
   "metadata": {},
   "outputs": [
    {
     "data": {
      "text/plain": [
       "(5410, 2)"
      ]
     },
     "execution_count": 10,
     "metadata": {},
     "output_type": "execute_result"
    }
   ],
   "source": [
    "df_frequency.shape"
   ]
  },
  {
   "attachments": {},
   "cell_type": "markdown",
   "metadata": {},
   "source": [
    "### Total Amount"
   ]
  },
  {
   "cell_type": "code",
   "execution_count": 11,
   "metadata": {},
   "outputs": [
    {
     "name": "stdout",
     "output_type": "stream",
     "text": [
      "   Customer ID  TotalAmount\n",
      "0      12346.0       -51.74\n",
      "1      12608.0       415.79\n",
      "2      12745.0       723.85\n",
      "3      12746.0       230.85\n",
      "4      12747.0      8786.53\n"
     ]
    }
   ],
   "source": [
    "import pandas as pd\n",
    "\n",
    "# Charger le dataset\n",
    "\n",
    "# Calculer le montant total des achats par client\n",
    "df['TotalAmount'] = df['Quantity'] * df['Price']\n",
    "\n",
    "# Regrouper par client et calculer la somme totale des montants\n",
    "df_total_amount = df.groupby('Customer ID')['TotalAmount'].sum().reset_index()\n",
    "\n",
    "# Afficher les premières lignes du résultat\n",
    "print(df_total_amount.head())\n"
   ]
  },
  {
   "cell_type": "code",
   "execution_count": 12,
   "metadata": {},
   "outputs": [
    {
     "data": {
      "text/plain": [
       "(5410, 2)"
      ]
     },
     "execution_count": 12,
     "metadata": {},
     "output_type": "execute_result"
    }
   ],
   "source": [
    "df_total_amount.shape"
   ]
  },
  {
   "attachments": {},
   "cell_type": "markdown",
   "metadata": {},
   "source": [
    "### Moyen achat"
   ]
  },
  {
   "cell_type": "code",
   "execution_count": 13,
   "metadata": {},
   "outputs": [
    {
     "name": "stdout",
     "output_type": "stream",
     "text": [
      "   Customer ID  AverageAmount\n",
      "0      12346.0      -1.100851\n",
      "1      12608.0      25.986875\n",
      "2      12745.0      32.902273\n",
      "3      12746.0      11.542500\n",
      "4      12747.0      34.188833\n"
     ]
    }
   ],
   "source": [
    "import pandas as pd\n",
    "\n",
    "# Charger le dataset\n",
    "\n",
    "\n",
    "# Calculer le montant total des achats par transaction\n",
    "df['TotalAmount'] = df['Quantity'] * df['Price']\n",
    "\n",
    "# Regrouper par client et calculer le montant moyen des achats\n",
    "df_avg_amount = df.groupby('Customer ID')['TotalAmount'].mean().reset_index()\n",
    "\n",
    "# Renommer la colonne pour refléter l'information\n",
    "df_avg_amount.rename(columns={'TotalAmount': 'AverageAmount'}, inplace=True)\n",
    "\n",
    "# Afficher les premières lignes du résultat\n",
    "print(df_avg_amount.head())\n"
   ]
  },
  {
   "cell_type": "code",
   "execution_count": 14,
   "metadata": {},
   "outputs": [
    {
     "data": {
      "text/plain": [
       "(5410, 2)"
      ]
     },
     "execution_count": 14,
     "metadata": {},
     "output_type": "execute_result"
    }
   ],
   "source": [
    "df_avg_amount.shape"
   ]
  },
  {
   "cell_type": "code",
   "execution_count": 15,
   "metadata": {},
   "outputs": [
    {
     "data": {
      "text/plain": [
       "5265"
      ]
     },
     "execution_count": 15,
     "metadata": {},
     "output_type": "execute_result"
    }
   ],
   "source": [
    "df['Description'].nunique()"
   ]
  },
  {
   "attachments": {},
   "cell_type": "markdown",
   "metadata": {},
   "source": [
    "### Score RFM"
   ]
  },
  {
   "cell_type": "code",
   "execution_count": 19,
   "metadata": {},
   "outputs": [
    {
     "name": "stdout",
     "output_type": "stream",
     "text": [
      "  Invoice StockCode                          Description  Quantity  \\\n",
      "0  489434     85048  15CM CHRISTMAS GLASS BALL 20 LIGHTS        12   \n",
      "1  489434    79323P                   PINK CHERRY LIGHTS        12   \n",
      "2  489434    79323W                  WHITE CHERRY LIGHTS        12   \n",
      "3  489434     22041         RECORD FRAME 7\" SINGLE SIZE         48   \n",
      "4  489434     21232       STRAWBERRY CERAMIC TRINKET BOX        24   \n",
      "\n",
      "          InvoiceDate  Price  Customer ID         Country  Recency  Frequency  \\\n",
      "0 2009-12-01 07:45:00   6.95      13085.0  United Kingdom      157         10   \n",
      "1 2009-12-01 07:45:00   6.75      13085.0  United Kingdom      157         10   \n",
      "2 2009-12-01 07:45:00   6.75      13085.0  United Kingdom      157         10   \n",
      "3 2009-12-01 07:45:00   2.10      13085.0  United Kingdom      157         10   \n",
      "4 2009-12-01 07:45:00   1.25      13085.0  United Kingdom      157         10   \n",
      "\n",
      "   Monetary         R    F    M  TotalAmount  \n",
      "0   1142.05  2.744444  3.0  3.0         83.4  \n",
      "1   1142.05  2.744444  3.0  3.0         81.0  \n",
      "2   1142.05  2.744444  3.0  3.0         81.0  \n",
      "3   1142.05  2.744444  3.0  3.0        100.8  \n",
      "4   1142.05  2.744444  3.0  3.0         30.0  \n"
     ]
    }
   ],
   "source": [
    "import pandas as pd\n",
    "import numpy as np\n",
    "\n",
    "# Convertir la colonne \"InvoiceDate\" en type de données datetime\n",
    "df['InvoiceDate'] = pd.to_datetime(df['InvoiceDate'])\n",
    "\n",
    "# Calculer la date la plus récente dans le dataset\n",
    "most_recent_date = df['InvoiceDate'].max()\n",
    "\n",
    "# Calculer la récence (Recency) en jours\n",
    "df['Recency'] = (most_recent_date - df.groupby('Customer ID')['InvoiceDate'].transform('max')).dt.days\n",
    "\n",
    "# Calculer la fréquence (Frequency)\n",
    "df['Frequency'] = df.groupby('Customer ID')['Invoice'].transform('nunique')\n",
    "\n",
    "# Calculer le montant (Monetary)\n",
    "df['Monetary'] = df.groupby('Customer ID')['Price'].transform('sum')\n",
    "\n",
    "# Définir les seuils pour chaque mesure RFM\n",
    "recency_thresholds = [0, 30, 90, 180, float('inf')]\n",
    "frequency_thresholds = [0, 1, 2, 5, float('inf')]\n",
    "monetary_thresholds = [0, 100, 500, 1000, float('inf')]\n",
    "\n",
    "# Fonction d'interpolation linéaire\n",
    "def interpolate_score(value, thresholds):\n",
    "    for i in range(len(thresholds) - 1):\n",
    "        if value <= thresholds[i+1]:\n",
    "            return i + (value - thresholds[i]) / (thresholds[i+1] - thresholds[i])\n",
    "\n",
    "# Assigner les scores RFM en utilisant l'interpolation linéaire\n",
    "df['R'] = df['Recency'].apply(lambda x: interpolate_score(x, recency_thresholds))\n",
    "df['F'] = df['Frequency'].apply(lambda x: interpolate_score(x, frequency_thresholds))\n",
    "df['M'] = df['Monetary'].apply(lambda x: interpolate_score(x, monetary_thresholds))\n",
    "\n",
    "print(df.head())\n",
    "\n"
   ]
  },
  {
   "cell_type": "code",
   "execution_count": 17,
   "metadata": {},
   "outputs": [],
   "source": [
    "df['RFM'] = df['RFM'].astype(int)"
   ]
  },
  {
   "cell_type": "code",
   "execution_count": 20,
   "metadata": {},
   "outputs": [
    {
     "name": "stdout",
     "output_type": "stream",
     "text": [
      "   Customer ID         R         F       M\n",
      "0      12346.0  3.000000  3.000000  2.1350\n",
      "1      12608.0  3.000000  1.000000  0.2604\n",
      "2      12745.0  3.000000  2.000000  0.6798\n",
      "3      12746.0  3.000000  2.333333  0.7395\n",
      "4      12747.0  0.033333  3.000000  3.0000\n"
     ]
    }
   ],
   "source": [
    "# Effectuer un groupby sur Customer ID pour les colonnes R, F, M et RFM\n",
    "df_grouped_RFM = df.groupby('Customer ID').agg({'R': 'mean', 'F': 'mean', 'M': 'mean',}).reset_index()\n",
    "\n",
    "# Afficher le DataFrame résultant\n",
    "print(df_grouped_RFM.head())\n"
   ]
  },
  {
   "cell_type": "code",
   "execution_count": 21,
   "metadata": {},
   "outputs": [
    {
     "data": {
      "text/plain": [
       "(5410, 4)"
      ]
     },
     "execution_count": 21,
     "metadata": {},
     "output_type": "execute_result"
    }
   ],
   "source": [
    "df_grouped_RFM.shape"
   ]
  },
  {
   "attachments": {},
   "cell_type": "markdown",
   "metadata": {},
   "source": [
    "### Merge"
   ]
  },
  {
   "cell_type": "code",
   "execution_count": 22,
   "metadata": {},
   "outputs": [],
   "source": [
    "import pandas as pd\n",
    "\n",
    "# Fusionner les dataframes en utilisant la colonne \"Customer ID\" comme clé de fusion\n",
    "merged_df = pd.merge(df_avg_amount, df_total_amount, on='Customer ID', how='inner')\n",
    "merged_df = pd.merge(merged_df, df_frequency, on='Customer ID', how='inner')\n",
    "merged_df = pd.merge(merged_df, df_grouped_RFM, on='Customer ID', how='inner')\n",
    "# merged_df = pd.merge(merged_df, df_country_amount, on='Customer ID', how='inner')\n",
    "\n",
    "# Afficher le dataframe fusionné\n",
    "print(merged_df.head())\n",
    "\n"
   ]
  },
  {
   "cell_type": "code",
   "execution_count": 23,
   "metadata": {},
   "outputs": [
    {
     "data": {
      "text/html": [
       "<div>\n",
       "<style scoped>\n",
       "    .dataframe tbody tr th:only-of-type {\n",
       "        vertical-align: middle;\n",
       "    }\n",
       "\n",
       "    .dataframe tbody tr th {\n",
       "        vertical-align: top;\n",
       "    }\n",
       "\n",
       "    .dataframe thead th {\n",
       "        text-align: right;\n",
       "    }\n",
       "</style>\n",
       "<table border=\"1\" class=\"dataframe\">\n",
       "  <thead>\n",
       "    <tr style=\"text-align: right;\">\n",
       "      <th></th>\n",
       "      <th>Customer ID</th>\n",
       "      <th>AverageAmount</th>\n",
       "      <th>TotalAmount</th>\n",
       "      <th>TimeDiff</th>\n",
       "      <th>R</th>\n",
       "      <th>F</th>\n",
       "      <th>M</th>\n",
       "    </tr>\n",
       "  </thead>\n",
       "  <tbody>\n",
       "    <tr>\n",
       "      <th>0</th>\n",
       "      <td>12346.0</td>\n",
       "      <td>-1.100851</td>\n",
       "      <td>-51.74</td>\n",
       "      <td>8.543478</td>\n",
       "      <td>3.000000</td>\n",
       "      <td>3.000000</td>\n",
       "      <td>2.1350</td>\n",
       "    </tr>\n",
       "    <tr>\n",
       "      <th>1</th>\n",
       "      <td>12608.0</td>\n",
       "      <td>25.986875</td>\n",
       "      <td>415.79</td>\n",
       "      <td>0.000000</td>\n",
       "      <td>3.000000</td>\n",
       "      <td>1.000000</td>\n",
       "      <td>0.2604</td>\n",
       "    </tr>\n",
       "    <tr>\n",
       "      <th>2</th>\n",
       "      <td>12745.0</td>\n",
       "      <td>32.902273</td>\n",
       "      <td>723.85</td>\n",
       "      <td>4.142857</td>\n",
       "      <td>3.000000</td>\n",
       "      <td>2.000000</td>\n",
       "      <td>0.6798</td>\n",
       "    </tr>\n",
       "    <tr>\n",
       "      <th>3</th>\n",
       "      <td>12746.0</td>\n",
       "      <td>11.542500</td>\n",
       "      <td>230.85</td>\n",
       "      <td>10.631579</td>\n",
       "      <td>3.000000</td>\n",
       "      <td>2.333333</td>\n",
       "      <td>0.7395</td>\n",
       "    </tr>\n",
       "    <tr>\n",
       "      <th>4</th>\n",
       "      <td>12747.0</td>\n",
       "      <td>34.188833</td>\n",
       "      <td>8786.53</td>\n",
       "      <td>2.816406</td>\n",
       "      <td>0.033333</td>\n",
       "      <td>3.000000</td>\n",
       "      <td>3.0000</td>\n",
       "    </tr>\n",
       "  </tbody>\n",
       "</table>\n",
       "</div>"
      ],
      "text/plain": [
       "   Customer ID  AverageAmount  TotalAmount   TimeDiff         R         F  \\\n",
       "0      12346.0      -1.100851       -51.74   8.543478  3.000000  3.000000   \n",
       "1      12608.0      25.986875       415.79   0.000000  3.000000  1.000000   \n",
       "2      12745.0      32.902273       723.85   4.142857  3.000000  2.000000   \n",
       "3      12746.0      11.542500       230.85  10.631579  3.000000  2.333333   \n",
       "4      12747.0      34.188833      8786.53   2.816406  0.033333  3.000000   \n",
       "\n",
       "        M  \n",
       "0  2.1350  \n",
       "1  0.2604  \n",
       "2  0.6798  \n",
       "3  0.7395  \n",
       "4  3.0000  "
      ]
     },
     "execution_count": 23,
     "metadata": {},
     "output_type": "execute_result"
    }
   ],
   "source": [
    "merged_df.head()"
   ]
  },
  {
   "cell_type": "code",
   "execution_count": 24,
   "metadata": {},
   "outputs": [],
   "source": [
    "merged_df.info()"
   ]
  },
  {
   "cell_type": "code",
   "execution_count": 25,
   "metadata": {},
   "outputs": [
    {
     "name": "stdout",
     "output_type": "stream",
     "text": [
      "<class 'pandas.core.frame.DataFrame'>\n",
      "Int64Index: 5410 entries, 0 to 5409\n",
      "Data columns (total 7 columns):\n",
      " #   Column         Non-Null Count  Dtype  \n",
      "---  ------         --------------  -----  \n",
      " 0   Customer ID    5410 non-null   float64\n",
      " 1   AverageAmount  5410 non-null   float64\n",
      " 2   TotalAmount    5410 non-null   float64\n",
      " 3   TimeDiff       5272 non-null   float64\n",
      " 4   R              5410 non-null   float64\n",
      " 5   F              5410 non-null   float64\n",
      " 6   M              5410 non-null   float64\n",
      "dtypes: float64(7)\n",
      "memory usage: 338.1 KB\n"
     ]
    }
   ],
   "source": [
    "#merged_df.to_csv('Feature_engin_treated.csv',index=False)"
   ]
  }
 ],
 "metadata": {
  "kernelspec": {
   "display_name": "ML-env",
   "language": "python",
   "name": "python3"
  },
  "language_info": {
   "codemirror_mode": {
    "name": "ipython",
    "version": 3
   },
   "file_extension": ".py",
   "mimetype": "text/x-python",
   "name": "python",
   "nbconvert_exporter": "python",
   "pygments_lexer": "ipython3",
   "version": "3.10.9 (main, Jan 11 2023, 15:21:40) [GCC 11.2.0]"
  },
  "orig_nbformat": 4,
  "vscode": {
   "interpreter": {
    "hash": "878092cf0169fc6951e1f6c32921b75f6c36905fe66a8d7b0fe42b541b9c8705"
   }
  }
 },
 "nbformat": 4,
 "nbformat_minor": 2
}
