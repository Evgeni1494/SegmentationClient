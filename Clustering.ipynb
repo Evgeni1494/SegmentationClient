{
 "cells": [
  {
   "cell_type": "code",
   "execution_count": 61,
   "metadata": {},
   "outputs": [],
   "source": [
    "import pandas as pd\n",
    "from ydata_profiling import ProfileReport\n",
    "df = pd.read_csv(\"Feature_engin_treated.csv\")"
   ]
  },
  {
   "attachments": {},
   "cell_type": "markdown",
   "metadata": {},
   "source": [
    "### Rapport profiling des features enginered"
   ]
  },
  {
   "cell_type": "code",
   "execution_count": 62,
   "metadata": {},
   "outputs": [
    {
     "data": {
      "application/vnd.jupyter.widget-view+json": {
       "model_id": "8ae267104167460d8feeb06602318c73",
       "version_major": 2,
       "version_minor": 0
      },
      "text/plain": [
       "Summarize dataset:   0%|          | 0/5 [00:00<?, ?it/s]"
      ]
     },
     "metadata": {},
     "output_type": "display_data"
    },
    {
     "data": {
      "application/vnd.jupyter.widget-view+json": {
       "model_id": "0162bf8420314483bc6c06688ccc0cfd",
       "version_major": 2,
       "version_minor": 0
      },
      "text/plain": [
       "Generate report structure:   0%|          | 0/1 [00:00<?, ?it/s]"
      ]
     },
     "metadata": {},
     "output_type": "display_data"
    },
    {
     "data": {
      "application/vnd.jupyter.widget-view+json": {
       "model_id": "b8e66f9c892746b88041940039537aff",
       "version_major": 2,
       "version_minor": 0
      },
      "text/plain": [
       "Render HTML:   0%|          | 0/1 [00:00<?, ?it/s]"
      ]
     },
     "metadata": {},
     "output_type": "display_data"
    },
    {
     "data": {
      "application/vnd.jupyter.widget-view+json": {
       "model_id": "4abd3cee1f454ea392558a108aa16d16",
       "version_major": 2,
       "version_minor": 0
      },
      "text/plain": [
       "Export report to file:   0%|          | 0/1 [00:00<?, ?it/s]"
      ]
     },
     "metadata": {},
     "output_type": "display_data"
    }
   ],
   "source": [
    "\n",
    "# Charger le dataset\n",
    "df = pd.read_csv('Feature_engin_treated.csv')\n",
    "\n",
    "# Générer le rapport de profiling\n",
    "report = ProfileReport(df)\n",
    "\n",
    "# Sauvegarder le rapport au format HTML\n",
    "report.to_file('rapport_engin.html')\n"
   ]
  },
  {
   "cell_type": "code",
   "execution_count": 64,
   "metadata": {},
   "outputs": [
    {
     "data": {
      "text/plain": [
       "Customer ID        0\n",
       "AverageAmount      0\n",
       "TotalAmount        0\n",
       "TimeDiff         138\n",
       "R                  0\n",
       "F                  0\n",
       "M                  0\n",
       "RFM                0\n",
       "dtype: int64"
      ]
     },
     "execution_count": 64,
     "metadata": {},
     "output_type": "execute_result"
    }
   ],
   "source": [
    "df.head()"
   ]
  },
  {
   "cell_type": "code",
   "execution_count": 8,
   "metadata": {},
   "outputs": [
    {
     "name": "stdout",
     "output_type": "stream",
     "text": [
      "<class 'pandas.core.frame.DataFrame'>\n",
      "RangeIndex: 5942 entries, 0 to 5941\n",
      "Data columns (total 8 columns):\n",
      " #   Column         Non-Null Count  Dtype  \n",
      "---  ------         --------------  -----  \n",
      " 0   Customer ID    5942 non-null   float64\n",
      " 1   AverageAmount  5942 non-null   float64\n",
      " 2   TotalAmount    5942 non-null   float64\n",
      " 3   TimeDiff       5791 non-null   float64\n",
      " 4   R              5942 non-null   float64\n",
      " 5   F              5942 non-null   float64\n",
      " 6   M              5942 non-null   float64\n",
      " 7   RFM            5942 non-null   float64\n",
      "dtypes: float64(8)\n",
      "memory usage: 371.5 KB\n"
     ]
    }
   ],
   "source": [
    "df.info()"
   ]
  },
  {
   "attachments": {},
   "cell_type": "markdown",
   "metadata": {},
   "source": [
    "### Methode du coude"
   ]
  },
  {
   "cell_type": "code",
   "execution_count": 65,
   "metadata": {},
   "outputs": [
    {
     "data": {
      "text/plain": [
       "Customer ID      0\n",
       "AverageAmount    0\n",
       "TotalAmount      0\n",
       "TimeDiff         0\n",
       "R                0\n",
       "F                0\n",
       "M                0\n",
       "RFM              0\n",
       "dtype: int64"
      ]
     },
     "execution_count": 65,
     "metadata": {},
     "output_type": "execute_result"
    }
   ],
   "source": [
    "df_cleansed = df.dropna()\n",
    "df_cleansed.isna().sum()"
   ]
  },
  {
   "cell_type": "code",
   "execution_count": 66,
   "metadata": {},
   "outputs": [
    {
     "data": {
      "image/png": "[encoded data removed]",
      "text/plain": [
       "<Figure size 1000x600 with 1 Axes>"
      ]
     },
     "metadata": {},
     "output_type": "display_data"
    }
   ],
   "source": [
    "import pandas as pd\n",
    "import seaborn as sns\n",
    "import matplotlib.pyplot as plt\n",
    "from sklearn.cluster import KMeans\n",
    "\n",
    "%matplotlib inline\n",
    "\n",
    "columns = ['AverageAmount', 'TotalAmount', 'TimeDiff', 'R', 'F', 'M', 'RFM']\n",
    "data = df_cleansed[columns]\n",
    "\n",
    "inertias = []\n",
    "\n",
    "for k in range(1, 11):\n",
    "    kmeans = KMeans(n_clusters=k, random_state=42)\n",
    "    kmeans.fit(data)\n",
    "    inertias.append(kmeans.inertia_)\n",
    "\n",
    "plt.figure(figsize=(10, 6))\n",
    "sns.lineplot(x=range(1, 11), y=inertias, marker='o')\n",
    "plt.xlabel('Nombre de clusters')\n",
    "plt.ylabel('Inertie')\n",
    "plt.title('Méthode du coude')\n",
    "plt.show()\n"
   ]
  },
  {
   "attachments": {},
   "cell_type": "markdown",
   "metadata": {},
   "source": [
    "### Clustering"
   ]
  },
  {
   "cell_type": "code",
   "execution_count": 67,
   "metadata": {},
   "outputs": [
    {
     "data": {
      "text/plain": [
       "Customer ID      0\n",
       "AverageAmount    0\n",
       "TotalAmount      0\n",
       "TimeDiff         0\n",
       "R                0\n",
       "F                0\n",
       "M                0\n",
       "RFM              0\n",
       "dtype: int64"
      ]
     },
     "execution_count": 67,
     "metadata": {},
     "output_type": "execute_result"
    }
   ],
   "source": [
    "df_cleansed = df.dropna()\n",
    "df_cleansed.isna().sum()"
   ]
  },
  {
   "cell_type": "code",
   "execution_count": 4,
   "metadata": {},
   "outputs": [
    {
     "name": "stdout",
     "output_type": "stream",
     "text": [
      "<class 'pandas.core.frame.DataFrame'>\n",
      "Int64Index: 5791 entries, 0 to 5941\n",
      "Data columns (total 8 columns):\n",
      " #   Column         Non-Null Count  Dtype  \n",
      "---  ------         --------------  -----  \n",
      " 0   Customer ID    5791 non-null   float64\n",
      " 1   AverageAmount  5791 non-null   float64\n",
      " 2   TotalAmount    5791 non-null   float64\n",
      " 3   TimeDiff       5791 non-null   float64\n",
      " 4   R              5791 non-null   float64\n",
      " 5   F              5791 non-null   float64\n",
      " 6   M              5791 non-null   float64\n",
      " 7   RFM            5791 non-null   float64\n",
      "dtypes: float64(8)\n",
      "memory usage: 407.2 KB\n"
     ]
    }
   ],
   "source": [
    "df_cleansed.info()"
   ]
  },
  {
   "cell_type": "code",
   "execution_count": 108,
   "metadata": {},
   "outputs": [
    {
     "data": {
      "text/plain": [
       "(5272, 9)"
      ]
     },
     "execution_count": 108,
     "metadata": {},
     "output_type": "execute_result"
    }
   ],
   "source": [
    "df_cleansed.shape"
   ]
  },
  {
   "cell_type": "code",
   "execution_count": 109,
   "metadata": {},
   "outputs": [
    {
     "name": "stderr",
     "output_type": "stream",
     "text": [
      "/tmp/ipykernel_9801/2458600017.py:23: SettingWithCopyWarning: \n",
      "A value is trying to be set on a copy of a slice from a DataFrame.\n",
      "Try using .loc[row_indexer,col_indexer] = value instead\n",
      "\n",
      "See the caveats in the documentation: https://pandas.pydata.org/pandas-docs/stable/user_guide/indexing.html#returning-a-view-versus-a-copy\n",
      "  df_cleansed['Cluster'] = labels\n"
     ]
    }
   ],
   "source": [
    "import pandas as pd\n",
    "from sklearn.pipeline import make_pipeline\n",
    "from sklearn.preprocessing import StandardScaler\n",
    "from sklearn.cluster import KMeans\n",
    "\n",
    "# Charger le dataset\n",
    "\n",
    "\n",
    "# Sélectionner les colonnes à utiliser pour le clustering\n",
    "columns = ['AverageAmount', 'TotalAmount', 'TimeDiff', 'R', 'F', 'M', 'RFM']\n",
    "data = df_cleansed[columns]\n",
    "\n",
    "# Créer le pipeline de standardisation et clustering\n",
    "pipeline = make_pipeline(StandardScaler(), KMeans(n_clusters=4, max_iter=100,random_state=42))\n",
    "\n",
    "# Effectuer le clustering\n",
    "pipeline.fit(data)\n",
    "\n",
    "# Obtenir les labels de cluster pour chaque échantillon\n",
    "labels = pipeline.predict(data)\n",
    "\n",
    "# Ajouter les labels de cluster au DataFrame\n",
    "df_cleansed['Cluster'] = labels\n",
    "\n",
    "# Afficher le DataFrame avec les labels de cluster\n",
    "# print(df_cleansed.head())\n",
    "\n",
    "\n",
    "\n"
   ]
  },
  {
   "cell_type": "code",
   "execution_count": 110,
   "metadata": {},
   "outputs": [
    {
     "data": {
      "image/png": "[encoded data removed]",
      "text/plain": [
       "<Figure size 640x480 with 1 Axes>"
      ]
     },
     "metadata": {},
     "output_type": "display_data"
    }
   ],
   "source": [
    "from sklearn.decomposition import PCA\n",
    "\n",
    "pca = PCA(n_components=2)\n",
    "data_pca = pca.fit_transform(data)\n",
    "\n",
    "plt.scatter(data_pca[:, 0], data_pca[:, 1], c=labels)\n",
    "plt.xlabel('PC1')\n",
    "plt.ylabel('PC2')\n",
    "plt.title('Clustering Results (PCA)')\n",
    "plt.show()\n"
   ]
  },
  {
   "cell_type": "code",
   "execution_count": 165,
   "metadata": {},
   "outputs": [],
   "source": [
    "df_try = df_cleansed"
   ]
  },
  {
   "cell_type": "code",
   "execution_count": 166,
   "metadata": {},
   "outputs": [],
   "source": [
    "# Supprimer les lignes avec les valeurs spécifiques dans la colonne \"TimeDiff\"\n",
    "df_try = df_try.drop(df_try[(df_try['Customer ID'] == 12918) | (df_try['Customer ID'] == 17013)].index)\n",
    "\n",
    "# Réinitialiser les indices du DataFrame\n",
    "df_try = df_try.reset_index(drop=True)\n"
   ]
  },
  {
   "cell_type": "code",
   "execution_count": 169,
   "metadata": {},
   "outputs": [
    {
     "data": {
      "text/plain": [
       "Customer ID      12346.0\n",
       "AverageAmount     -360.4\n",
       "TotalAmount      -3767.2\n",
       "TimeDiff             0.0\n",
       "R                    1.0\n",
       "F                    1.0\n",
       "M                    1.0\n",
       "RFM                111.0\n",
       "Cluster              0.0\n",
       "dtype: float64"
      ]
     },
     "execution_count": 169,
     "metadata": {},
     "output_type": "execute_result"
    }
   ],
   "source": [
    "df_try.min()"
   ]
  },
  {
   "cell_type": "code",
   "execution_count": 168,
   "metadata": {},
   "outputs": [
    {
     "data": {
      "image/png": "[encoded data removed]",
      "text/plain": [
       "<Figure size 640x480 with 1 Axes>"
      ]
     },
     "metadata": {},
     "output_type": "display_data"
    }
   ],
   "source": [
    "import pandas as pd\n",
    "import matplotlib.pyplot as plt\n",
    "from sklearn.cluster import KMeans\n",
    "from sklearn.preprocessing import StandardScaler\n",
    "\n",
    "# Charger le dataset\n",
    "df = df_try\n",
    "\n",
    "# Sélectionner les colonnes à utiliser pour le clustering (R, F, M)\n",
    "X = df[['AverageAmount' ,'TotalAmount' ,'TimeDiff']]\n",
    "\n",
    "# Appliquer la transformation de mise à l'échelle avec StandardScaler\n",
    "scaler = StandardScaler()\n",
    "X_scaled = scaler.fit_transform(X)\n",
    "\n",
    "# Définir le nombre de clusters\n",
    "num_clusters = 3\n",
    "\n",
    "# Créer une instance du modèle K-means avec une initialisation K-means++\n",
    "kmeans = KMeans(n_clusters=num_clusters, init='k-means++', random_state=42)\n",
    "\n",
    "# Effectuer le clustering\n",
    "kmeans.fit(X_scaled)\n",
    "\n",
    "# Obtenir les labels de clusters assignés à chaque échantillon\n",
    "labels = kmeans.labels_\n",
    "\n",
    "# Ajouter les labels de clusters au DataFrame\n",
    "df['Cluster'] = labels\n",
    "\n",
    "# Visualiser les clusters en utilisant un diagramme en nuage de points\n",
    "plt.scatter(df['TimeDiff'], df['AverageAmount'], c=df['Cluster'], cmap='viridis')\n",
    "plt.xlabel('TimeDiff')\n",
    "plt.ylabel('AverageAmount')\n",
    "plt.title('Clustering avec K-means')\n",
    "plt.xscale('log')\n",
    "plt.yscale('log')\n",
    "plt.show()\n",
    "\n",
    "# reduction de dimensions sur une ACP"
   ]
  },
  {
   "cell_type": "code",
   "execution_count": 170,
   "metadata": {},
   "outputs": [
    {
     "data": {
      "text/html": [
       "<div>\n",
       "<style scoped>\n",
       "    .dataframe tbody tr th:only-of-type {\n",
       "        vertical-align: middle;\n",
       "    }\n",
       "\n",
       "    .dataframe tbody tr th {\n",
       "        vertical-align: top;\n",
       "    }\n",
       "\n",
       "    .dataframe thead th {\n",
       "        text-align: right;\n",
       "    }\n",
       "</style>\n",
       "<table border=\"1\" class=\"dataframe\">\n",
       "  <thead>\n",
       "    <tr style=\"text-align: right;\">\n",
       "      <th></th>\n",
       "      <th>Customer ID</th>\n",
       "      <th>AverageAmount</th>\n",
       "      <th>TotalAmount</th>\n",
       "      <th>TimeDiff</th>\n",
       "      <th>R</th>\n",
       "      <th>F</th>\n",
       "      <th>M</th>\n",
       "      <th>RFM</th>\n",
       "    </tr>\n",
       "    <tr>\n",
       "      <th>Cluster</th>\n",
       "      <th></th>\n",
       "      <th></th>\n",
       "      <th></th>\n",
       "      <th></th>\n",
       "      <th></th>\n",
       "      <th></th>\n",
       "      <th></th>\n",
       "      <th></th>\n",
       "    </tr>\n",
       "  </thead>\n",
       "  <tbody>\n",
       "    <tr>\n",
       "      <th>0</th>\n",
       "      <td>15554.962857</td>\n",
       "      <td>21.069196</td>\n",
       "      <td>2284.678043</td>\n",
       "      <td>4.516702</td>\n",
       "      <td>1.780394</td>\n",
       "      <td>3.524794</td>\n",
       "      <td>3.599655</td>\n",
       "      <td>216.887038</td>\n",
       "    </tr>\n",
       "    <tr>\n",
       "      <th>1</th>\n",
       "      <td>16688.200000</td>\n",
       "      <td>291.385743</td>\n",
       "      <td>260357.174000</td>\n",
       "      <td>0.662201</td>\n",
       "      <td>3.800000</td>\n",
       "      <td>1.000000</td>\n",
       "      <td>1.200000</td>\n",
       "      <td>391.200000</td>\n",
       "    </tr>\n",
       "    <tr>\n",
       "      <th>2</th>\n",
       "      <td>16314.523810</td>\n",
       "      <td>427.371098</td>\n",
       "      <td>7044.198810</td>\n",
       "      <td>120.660271</td>\n",
       "      <td>1.761905</td>\n",
       "      <td>3.619048</td>\n",
       "      <td>3.761905</td>\n",
       "      <td>216.142857</td>\n",
       "    </tr>\n",
       "  </tbody>\n",
       "</table>\n",
       "</div>"
      ],
      "text/plain": [
       "          Customer ID  AverageAmount    TotalAmount    TimeDiff         R  \\\n",
       "Cluster                                                                     \n",
       "0        15554.962857      21.069196    2284.678043    4.516702  1.780394   \n",
       "1        16688.200000     291.385743  260357.174000    0.662201  3.800000   \n",
       "2        16314.523810     427.371098    7044.198810  120.660271  1.761905   \n",
       "\n",
       "                F         M         RFM  \n",
       "Cluster                                  \n",
       "0        3.524794  3.599655  216.887038  \n",
       "1        1.000000  1.200000  391.200000  \n",
       "2        3.619048  3.761905  216.142857  "
      ]
     },
     "execution_count": 170,
     "metadata": {},
     "output_type": "execute_result"
    }
   ],
   "source": [
    "\n",
    "\n",
    "# Effectuer un groupby sur la colonne \"Cluster\"\n",
    "df_grouped = df.groupby('Cluster').mean()\n",
    "\n",
    "# Afficher le DataFrame résultant\n",
    "df_grouped.head()\n"
   ]
  },
  {
   "cell_type": "code",
   "execution_count": 171,
   "metadata": {},
   "outputs": [
    {
     "data": {
      "text/html": [
       "<div>\n",
       "<style scoped>\n",
       "    .dataframe tbody tr th:only-of-type {\n",
       "        vertical-align: middle;\n",
       "    }\n",
       "\n",
       "    .dataframe tbody tr th {\n",
       "        vertical-align: top;\n",
       "    }\n",
       "\n",
       "    .dataframe thead th {\n",
       "        text-align: right;\n",
       "    }\n",
       "</style>\n",
       "<table border=\"1\" class=\"dataframe\">\n",
       "  <thead>\n",
       "    <tr style=\"text-align: right;\">\n",
       "      <th></th>\n",
       "      <th>Customer ID</th>\n",
       "      <th>AverageAmount</th>\n",
       "      <th>TotalAmount</th>\n",
       "      <th>TimeDiff</th>\n",
       "      <th>R</th>\n",
       "      <th>F</th>\n",
       "      <th>M</th>\n",
       "      <th>RFM</th>\n",
       "      <th>Cluster</th>\n",
       "    </tr>\n",
       "  </thead>\n",
       "  <tbody>\n",
       "    <tr>\n",
       "      <th>0</th>\n",
       "      <td>12346.0</td>\n",
       "      <td>-1.100851</td>\n",
       "      <td>-51.74</td>\n",
       "      <td>8.543478</td>\n",
       "      <td>1.0</td>\n",
       "      <td>2.0</td>\n",
       "      <td>3.0</td>\n",
       "      <td>123.0</td>\n",
       "      <td>0</td>\n",
       "    </tr>\n",
       "    <tr>\n",
       "      <th>1</th>\n",
       "      <td>12608.0</td>\n",
       "      <td>25.986875</td>\n",
       "      <td>415.79</td>\n",
       "      <td>0.000000</td>\n",
       "      <td>1.0</td>\n",
       "      <td>4.0</td>\n",
       "      <td>4.0</td>\n",
       "      <td>144.0</td>\n",
       "      <td>0</td>\n",
       "    </tr>\n",
       "    <tr>\n",
       "      <th>2</th>\n",
       "      <td>12745.0</td>\n",
       "      <td>32.902273</td>\n",
       "      <td>723.85</td>\n",
       "      <td>4.142857</td>\n",
       "      <td>1.0</td>\n",
       "      <td>4.0</td>\n",
       "      <td>4.0</td>\n",
       "      <td>144.0</td>\n",
       "      <td>0</td>\n",
       "    </tr>\n",
       "    <tr>\n",
       "      <th>3</th>\n",
       "      <td>12746.0</td>\n",
       "      <td>11.542500</td>\n",
       "      <td>230.85</td>\n",
       "      <td>10.631579</td>\n",
       "      <td>1.0</td>\n",
       "      <td>4.0</td>\n",
       "      <td>4.0</td>\n",
       "      <td>144.0</td>\n",
       "      <td>0</td>\n",
       "    </tr>\n",
       "    <tr>\n",
       "      <th>4</th>\n",
       "      <td>12747.0</td>\n",
       "      <td>34.188833</td>\n",
       "      <td>8786.53</td>\n",
       "      <td>2.816406</td>\n",
       "      <td>4.0</td>\n",
       "      <td>1.0</td>\n",
       "      <td>2.0</td>\n",
       "      <td>412.0</td>\n",
       "      <td>0</td>\n",
       "    </tr>\n",
       "  </tbody>\n",
       "</table>\n",
       "</div>"
      ],
      "text/plain": [
       "   Customer ID  AverageAmount  TotalAmount   TimeDiff    R    F    M    RFM  \\\n",
       "0      12346.0      -1.100851       -51.74   8.543478  1.0  2.0  3.0  123.0   \n",
       "1      12608.0      25.986875       415.79   0.000000  1.0  4.0  4.0  144.0   \n",
       "2      12745.0      32.902273       723.85   4.142857  1.0  4.0  4.0  144.0   \n",
       "3      12746.0      11.542500       230.85  10.631579  1.0  4.0  4.0  144.0   \n",
       "4      12747.0      34.188833      8786.53   2.816406  4.0  1.0  2.0  412.0   \n",
       "\n",
       "   Cluster  \n",
       "0        0  \n",
       "1        0  \n",
       "2        0  \n",
       "3        0  \n",
       "4        0  "
      ]
     },
     "execution_count": 171,
     "metadata": {},
     "output_type": "execute_result"
    }
   ],
   "source": [
    "df_cleansed.head()"
   ]
  },
  {
   "cell_type": "code",
   "execution_count": 172,
   "metadata": {},
   "outputs": [
    {
     "data": {
      "text/html": [
       "<div>\n",
       "<style scoped>\n",
       "    .dataframe tbody tr th:only-of-type {\n",
       "        vertical-align: middle;\n",
       "    }\n",
       "\n",
       "    .dataframe tbody tr th {\n",
       "        vertical-align: top;\n",
       "    }\n",
       "\n",
       "    .dataframe thead th {\n",
       "        text-align: right;\n",
       "    }\n",
       "</style>\n",
       "<table border=\"1\" class=\"dataframe\">\n",
       "  <thead>\n",
       "    <tr style=\"text-align: right;\">\n",
       "      <th></th>\n",
       "      <th>PC1</th>\n",
       "      <th>PC2</th>\n",
       "    </tr>\n",
       "  </thead>\n",
       "  <tbody>\n",
       "    <tr>\n",
       "      <th>0</th>\n",
       "      <td>0.247692</td>\n",
       "      <td>-0.293254</td>\n",
       "    </tr>\n",
       "    <tr>\n",
       "      <th>1</th>\n",
       "      <td>0.223286</td>\n",
       "      <td>0.072196</td>\n",
       "    </tr>\n",
       "    <tr>\n",
       "      <th>2</th>\n",
       "      <td>0.030147</td>\n",
       "      <td>-0.068944</td>\n",
       "    </tr>\n",
       "    <tr>\n",
       "      <th>3</th>\n",
       "      <td>0.061713</td>\n",
       "      <td>-0.355541</td>\n",
       "    </tr>\n",
       "    <tr>\n",
       "      <th>4</th>\n",
       "      <td>-0.287882</td>\n",
       "      <td>0.508649</td>\n",
       "    </tr>\n",
       "    <tr>\n",
       "      <th>...</th>\n",
       "      <td>...</td>\n",
       "      <td>...</td>\n",
       "    </tr>\n",
       "    <tr>\n",
       "      <th>5267</th>\n",
       "      <td>0.318216</td>\n",
       "      <td>0.190657</td>\n",
       "    </tr>\n",
       "    <tr>\n",
       "      <th>5268</th>\n",
       "      <td>0.319669</td>\n",
       "      <td>0.070117</td>\n",
       "    </tr>\n",
       "    <tr>\n",
       "      <th>5269</th>\n",
       "      <td>0.135621</td>\n",
       "      <td>0.073501</td>\n",
       "    </tr>\n",
       "    <tr>\n",
       "      <th>5270</th>\n",
       "      <td>0.171353</td>\n",
       "      <td>-0.017064</td>\n",
       "    </tr>\n",
       "    <tr>\n",
       "      <th>5271</th>\n",
       "      <td>-0.070465</td>\n",
       "      <td>0.143627</td>\n",
       "    </tr>\n",
       "  </tbody>\n",
       "</table>\n",
       "<p>5272 rows × 2 columns</p>\n",
       "</div>"
      ],
      "text/plain": [
       "           PC1       PC2\n",
       "0     0.247692 -0.293254\n",
       "1     0.223286  0.072196\n",
       "2     0.030147 -0.068944\n",
       "3     0.061713 -0.355541\n",
       "4    -0.287882  0.508649\n",
       "...        ...       ...\n",
       "5267  0.318216  0.190657\n",
       "5268  0.319669  0.070117\n",
       "5269  0.135621  0.073501\n",
       "5270  0.171353 -0.017064\n",
       "5271 -0.070465  0.143627\n",
       "\n",
       "[5272 rows x 2 columns]"
      ]
     },
     "execution_count": 172,
     "metadata": {},
     "output_type": "execute_result"
    }
   ],
   "source": [
    "import pandas as pd\n",
    "from sklearn.preprocessing import StandardScaler\n",
    "from sklearn.decomposition import PCA\n",
    "\n",
    "\n",
    "\n",
    "df_pca = df_cleansed\n",
    "# Sélectionner les colonnes pertinentes pour l'ACP\n",
    "features = ['AverageAmount','TotalAmount', 'TimeDiff']\n",
    "\n",
    "# Standardisation des données\n",
    "scaler = StandardScaler()\n",
    "df_scaled = scaler.fit_transform(df_pca[features])\n",
    "\n",
    "# Création de la matrice de corrélation\n",
    "corr_matrix = pd.DataFrame(df_scaled, columns=features).corr()\n",
    "\n",
    "# Calcul des composantes principales\n",
    "pca = PCA(n_components=2)\n",
    "principal_components = pca.fit_transform(df_scaled)\n",
    "\n",
    "# Créer un DataFrame pour stocker les résultats de l'ACP\n",
    "df_test = pd.DataFrame(data=principal_components, columns=['PC1', 'PC2'])\n",
    "\n",
    "# Afficher les premières lignes du DataFrame résultant\n",
    "df_test"
   ]
  },
  {
   "cell_type": "code",
   "execution_count": 174,
   "metadata": {},
   "outputs": [
    {
     "data": {
      "image/png": "[encoded data removed]",
      "text/plain": [
       "<Figure size 640x480 with 1 Axes>"
      ]
     },
     "metadata": {},
     "output_type": "display_data"
    }
   ],
   "source": [
    "import pandas as pd\n",
    "import matplotlib.pyplot as plt\n",
    "from sklearn.cluster import KMeans\n",
    "from sklearn.preprocessing import StandardScaler\n",
    "\n",
    "# Charger le dataset\n",
    "df = df_test\n",
    "\n",
    "# Sélectionner les colonnes à utiliser pour le clustering (R, F, M)\n",
    "X = df[['PC1','PC2']]\n",
    "\n",
    "# Appliquer la transformation de mise à l'échelle avec StandardScaler\n",
    "scaler = StandardScaler()\n",
    "X_scaled = scaler.fit_transform(X)\n",
    "\n",
    "# Définir le nombre de clusters\n",
    "num_clusters = 4\n",
    "\n",
    "# Créer une instance du modèle K-means avec une initialisation K-means++\n",
    "kmeans = KMeans(n_clusters=num_clusters, init='k-means++', random_state=42)\n",
    "\n",
    "# Effectuer le clustering\n",
    "kmeans.fit(X_scaled)\n",
    "\n",
    "# Obtenir les labels de clusters assignés à chaque échantillon\n",
    "labels = kmeans.labels_\n",
    "\n",
    "# Ajouter les labels de clusters au DataFrame\n",
    "df['Cluster'] = labels\n",
    "\n",
    "# Visualiser les clusters en utilisant un diagramme en nuage de points\n",
    "plt.scatter(df['PC1'], df['PC2'], c=df['Cluster'], cmap='viridis')\n",
    "plt.xlabel('PC1')\n",
    "plt.ylabel('PC2')\n",
    "plt.title('Clustering avec K-means')\n",
    "# plt.xscale('log')\n",
    "# plt.yscale('log')\n",
    "plt.show()"
   ]
  },
  {
   "cell_type": "code",
   "execution_count": 140,
   "metadata": {},
   "outputs": [
    {
     "data": {
      "text/html": [
       "<div>\n",
       "<style scoped>\n",
       "    .dataframe tbody tr th:only-of-type {\n",
       "        vertical-align: middle;\n",
       "    }\n",
       "\n",
       "    .dataframe tbody tr th {\n",
       "        vertical-align: top;\n",
       "    }\n",
       "\n",
       "    .dataframe thead tr th {\n",
       "        text-align: left;\n",
       "    }\n",
       "\n",
       "    .dataframe thead tr:last-of-type th {\n",
       "        text-align: right;\n",
       "    }\n",
       "</style>\n",
       "<table border=\"1\" class=\"dataframe\">\n",
       "  <thead>\n",
       "    <tr>\n",
       "      <th></th>\n",
       "      <th colspan=\"8\" halign=\"left\">Customer ID</th>\n",
       "      <th colspan=\"2\" halign=\"left\">AverageAmount</th>\n",
       "      <th>...</th>\n",
       "      <th colspan=\"2\" halign=\"left\">M</th>\n",
       "      <th colspan=\"8\" halign=\"left\">RFM</th>\n",
       "    </tr>\n",
       "    <tr>\n",
       "      <th></th>\n",
       "      <th>count</th>\n",
       "      <th>mean</th>\n",
       "      <th>std</th>\n",
       "      <th>min</th>\n",
       "      <th>25%</th>\n",
       "      <th>50%</th>\n",
       "      <th>75%</th>\n",
       "      <th>max</th>\n",
       "      <th>count</th>\n",
       "      <th>mean</th>\n",
       "      <th>...</th>\n",
       "      <th>75%</th>\n",
       "      <th>max</th>\n",
       "      <th>count</th>\n",
       "      <th>mean</th>\n",
       "      <th>std</th>\n",
       "      <th>min</th>\n",
       "      <th>25%</th>\n",
       "      <th>50%</th>\n",
       "      <th>75%</th>\n",
       "      <th>max</th>\n",
       "    </tr>\n",
       "    <tr>\n",
       "      <th>Cluster</th>\n",
       "      <th></th>\n",
       "      <th></th>\n",
       "      <th></th>\n",
       "      <th></th>\n",
       "      <th></th>\n",
       "      <th></th>\n",
       "      <th></th>\n",
       "      <th></th>\n",
       "      <th></th>\n",
       "      <th></th>\n",
       "      <th></th>\n",
       "      <th></th>\n",
       "      <th></th>\n",
       "      <th></th>\n",
       "      <th></th>\n",
       "      <th></th>\n",
       "      <th></th>\n",
       "      <th></th>\n",
       "      <th></th>\n",
       "      <th></th>\n",
       "      <th></th>\n",
       "    </tr>\n",
       "  </thead>\n",
       "  <tbody>\n",
       "    <tr>\n",
       "      <th>0</th>\n",
       "      <td>4130.0</td>\n",
       "      <td>15576.951574</td>\n",
       "      <td>1584.113639</td>\n",
       "      <td>12608.0</td>\n",
       "      <td>14209.00</td>\n",
       "      <td>15590.5</td>\n",
       "      <td>16947.75</td>\n",
       "      <td>18287.0</td>\n",
       "      <td>4130.0</td>\n",
       "      <td>24.513092</td>\n",
       "      <td>...</td>\n",
       "      <td>4.00</td>\n",
       "      <td>4.0</td>\n",
       "      <td>4130.0</td>\n",
       "      <td>193.765375</td>\n",
       "      <td>79.686400</td>\n",
       "      <td>124.0</td>\n",
       "      <td>144.0</td>\n",
       "      <td>144.0</td>\n",
       "      <td>244.00</td>\n",
       "      <td>444.0</td>\n",
       "    </tr>\n",
       "    <tr>\n",
       "      <th>1</th>\n",
       "      <td>1134.0</td>\n",
       "      <td>15504.798060</td>\n",
       "      <td>1565.670315</td>\n",
       "      <td>12346.0</td>\n",
       "      <td>14169.00</td>\n",
       "      <td>15519.5</td>\n",
       "      <td>16882.25</td>\n",
       "      <td>18283.0</td>\n",
       "      <td>1134.0</td>\n",
       "      <td>18.780510</td>\n",
       "      <td>...</td>\n",
       "      <td>3.00</td>\n",
       "      <td>4.0</td>\n",
       "      <td>1134.0</td>\n",
       "      <td>300.419753</td>\n",
       "      <td>96.015188</td>\n",
       "      <td>111.0</td>\n",
       "      <td>232.0</td>\n",
       "      <td>322.0</td>\n",
       "      <td>411.00</td>\n",
       "      <td>443.0</td>\n",
       "    </tr>\n",
       "    <tr>\n",
       "      <th>2</th>\n",
       "      <td>8.0</td>\n",
       "      <td>15862.750000</td>\n",
       "      <td>1861.995071</td>\n",
       "      <td>13089.0</td>\n",
       "      <td>14719.25</td>\n",
       "      <td>15997.5</td>\n",
       "      <td>17465.25</td>\n",
       "      <td>18102.0</td>\n",
       "      <td>8.0</td>\n",
       "      <td>206.401317</td>\n",
       "      <td>...</td>\n",
       "      <td>1.25</td>\n",
       "      <td>2.0</td>\n",
       "      <td>8.0</td>\n",
       "      <td>398.750000</td>\n",
       "      <td>35.459232</td>\n",
       "      <td>311.0</td>\n",
       "      <td>411.0</td>\n",
       "      <td>411.0</td>\n",
       "      <td>411.25</td>\n",
       "      <td>412.0</td>\n",
       "    </tr>\n",
       "  </tbody>\n",
       "</table>\n",
       "<p>3 rows × 64 columns</p>\n",
       "</div>"
      ],
      "text/plain": [
       "        Customer ID                                                         \\\n",
       "              count          mean          std      min       25%      50%   \n",
       "Cluster                                                                      \n",
       "0            4130.0  15576.951574  1584.113639  12608.0  14209.00  15590.5   \n",
       "1            1134.0  15504.798060  1565.670315  12346.0  14169.00  15519.5   \n",
       "2               8.0  15862.750000  1861.995071  13089.0  14719.25  15997.5   \n",
       "\n",
       "                           AverageAmount              ...     M          RFM  \\\n",
       "              75%      max         count        mean  ...   75%  max   count   \n",
       "Cluster                                               ...                      \n",
       "0        16947.75  18287.0        4130.0   24.513092  ...  4.00  4.0  4130.0   \n",
       "1        16882.25  18283.0        1134.0   18.780510  ...  3.00  4.0  1134.0   \n",
       "2        17465.25  18102.0           8.0  206.401317  ...  1.25  2.0     8.0   \n",
       "\n",
       "                                                                    \n",
       "               mean        std    min    25%    50%     75%    max  \n",
       "Cluster                                                             \n",
       "0        193.765375  79.686400  124.0  144.0  144.0  244.00  444.0  \n",
       "1        300.419753  96.015188  111.0  232.0  322.0  411.00  443.0  \n",
       "2        398.750000  35.459232  311.0  411.0  411.0  411.25  412.0  \n",
       "\n",
       "[3 rows x 64 columns]"
      ]
     },
     "execution_count": 140,
     "metadata": {},
     "output_type": "execute_result"
    }
   ],
   "source": [
    "# Effectuer un groupby sur la colonne \"Cluster\"\n",
    "df_grouped = df_cleansed.groupby('Cluster').describe()\n",
    "\n",
    "# Afficher le DataFrame résultant\n",
    "df_grouped.head()"
   ]
  },
  {
   "cell_type": "code",
   "execution_count": 119,
   "metadata": {},
   "outputs": [
    {
     "name": "stdout",
     "output_type": "stream",
     "text": [
      "<class 'pandas.core.frame.DataFrame'>\n",
      "Int64Index: 5272 entries, 0 to 5409\n",
      "Data columns (total 9 columns):\n",
      " #   Column         Non-Null Count  Dtype  \n",
      "---  ------         --------------  -----  \n",
      " 0   Customer ID    5272 non-null   float64\n",
      " 1   AverageAmount  5272 non-null   float64\n",
      " 2   TotalAmount    5272 non-null   float64\n",
      " 3   TimeDiff       5272 non-null   float64\n",
      " 4   R              5272 non-null   float64\n",
      " 5   F              5272 non-null   float64\n",
      " 6   M              5272 non-null   float64\n",
      " 7   RFM            5272 non-null   float64\n",
      " 8   Cluster        5272 non-null   int32  \n",
      "dtypes: float64(8), int32(1)\n",
      "memory usage: 391.3 KB\n"
     ]
    }
   ],
   "source": [
    "df_cleansed.info()"
   ]
  },
  {
   "cell_type": "code",
   "execution_count": null,
   "metadata": {},
   "outputs": [],
   "source": []
  }
 ],
 "metadata": {
  "kernelspec": {
   "display_name": "ML-env",
   "language": "python",
   "name": "python3"
  },
  "language_info": {
   "codemirror_mode": {
    "name": "ipython",
    "version": 3
   },
   "file_extension": ".py",
   "mimetype": "text/x-python",
   "name": "python",
   "nbconvert_exporter": "python",
   "pygments_lexer": "ipython3",
   "version": "3.10.9"
  },
  "orig_nbformat": 4,
  "vscode": {
   "interpreter": {
    "hash": "878092cf0169fc6951e1f6c32921b75f6c36905fe66a8d7b0fe42b541b9c8705"
   }
  }
 },
 "nbformat": 4,
 "nbformat_minor": 2
}
